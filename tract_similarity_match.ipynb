{
 "cells": [
  {
   "cell_type": "markdown",
   "id": "5b96ee1c",
   "metadata": {},
   "source": [
    "## Install pymatch"
   ]
  },
  {
   "cell_type": "code",
   "execution_count": 4,
   "id": "e43373d1",
   "metadata": {
    "scrolled": true
   },
   "outputs": [
    {
     "name": "stdout",
     "output_type": "stream",
     "text": [
      "Collecting pymatch"
     ]
    },
    {
     "name": "stderr",
     "output_type": "stream",
     "text": [
      "WARNING: You are using pip version 22.0.3; however, version 23.0.1 is available.\n",
      "You should consider upgrading via the 'C:\\Users\\10157\\AppData\\Local\\Programs\\Python\\Python39\\python.exe -m pip install --upgrade pip' command.\n"
     ]
    },
    {
     "name": "stdout",
     "output_type": "stream",
     "text": [
      "\n",
      "  Downloading pymatch-0.3.4.tar.gz (13 kB)\n",
      "  Preparing metadata (setup.py): started\n",
      "  Preparing metadata (setup.py): finished with status 'done'\n",
      "Building wheels for collected packages: pymatch\n",
      "  Building wheel for pymatch (setup.py): started\n",
      "  Building wheel for pymatch (setup.py): finished with status 'done'\n",
      "  Created wheel for pymatch: filename=pymatch-0.3.4-py3-none-any.whl size=9117 sha256=04f48d969b7cc52fc093ab199aea1a5d17875ca62f40276b2664671d1849718a\n",
      "  Stored in directory: c:\\users\\10157\\appdata\\local\\pip\\cache\\wheels\\f2\\10\\99\\d835e60df49ea4e8dffe9b92225760e449e887d54e8d109b5e\n",
      "Successfully built pymatch\n",
      "Installing collected packages: pymatch\n",
      "Successfully installed pymatch-0.3.4\n"
     ]
    }
   ],
   "source": [
    "#!pip install pymatch"
   ]
  },
  {
   "cell_type": "markdown",
   "id": "3a121dc4",
   "metadata": {},
   "source": [
    "## Import Libs"
   ]
  },
  {
   "cell_type": "code",
   "execution_count": 1,
   "id": "34901bb9",
   "metadata": {},
   "outputs": [],
   "source": [
    "import warnings\n",
    "warnings.filterwarnings('ignore')\n",
    "from pymatch.Matcher import Matcher\n",
    "import pandas as pd\n",
    "import numpy as np\n",
    "\n",
    "%matplotlib inline"
   ]
  },
  {
   "cell_type": "markdown",
   "id": "02ff13c6",
   "metadata": {},
   "source": [
    "## Prepare Data"
   ]
  },
  {
   "cell_type": "code",
   "execution_count": 2,
   "id": "16c4ba65",
   "metadata": {},
   "outputs": [],
   "source": [
    "data = pd.read_csv('census_data/co_2014.csv')"
   ]
  },
  {
   "cell_type": "code",
   "execution_count": 3,
   "id": "839d0bba",
   "metadata": {},
   "outputs": [],
   "source": [
    "data = data.drop('Unnamed: 0', axis=1)"
   ]
  },
  {
   "cell_type": "code",
   "execution_count": 4,
   "id": "f79fd517",
   "metadata": {},
   "outputs": [
    {
     "data": {
      "text/html": [
       "<div>\n",
       "<style scoped>\n",
       "    .dataframe tbody tr th:only-of-type {\n",
       "        vertical-align: middle;\n",
       "    }\n",
       "\n",
       "    .dataframe tbody tr th {\n",
       "        vertical-align: top;\n",
       "    }\n",
       "\n",
       "    .dataframe thead th {\n",
       "        text-align: right;\n",
       "    }\n",
       "</style>\n",
       "<table border=\"1\" class=\"dataframe\">\n",
       "  <thead>\n",
       "    <tr style=\"text-align: right;\">\n",
       "      <th></th>\n",
       "      <th>population</th>\n",
       "      <th>income</th>\n",
       "      <th>house_value</th>\n",
       "      <th>rent</th>\n",
       "      <th>tract</th>\n",
       "      <th>unemployment</th>\n",
       "      <th>poverty</th>\n",
       "    </tr>\n",
       "  </thead>\n",
       "  <tbody>\n",
       "    <tr>\n",
       "      <th>0</th>\n",
       "      <td>3504</td>\n",
       "      <td>42608</td>\n",
       "      <td>430500</td>\n",
       "      <td>2001</td>\n",
       "      <td>8035014506</td>\n",
       "      <td>0.04</td>\n",
       "      <td>0.06</td>\n",
       "    </tr>\n",
       "    <tr>\n",
       "      <th>1</th>\n",
       "      <td>7359</td>\n",
       "      <td>39786</td>\n",
       "      <td>219200</td>\n",
       "      <td>1738</td>\n",
       "      <td>8035014603</td>\n",
       "      <td>0.05</td>\n",
       "      <td>0.03</td>\n",
       "    </tr>\n",
       "    <tr>\n",
       "      <th>2</th>\n",
       "      <td>4096</td>\n",
       "      <td>52089</td>\n",
       "      <td>276200</td>\n",
       "      <td>1685</td>\n",
       "      <td>8035014604</td>\n",
       "      <td>0.06</td>\n",
       "      <td>0.11</td>\n",
       "    </tr>\n",
       "    <tr>\n",
       "      <th>3</th>\n",
       "      <td>5984</td>\n",
       "      <td>30932</td>\n",
       "      <td>359400</td>\n",
       "      <td>1591</td>\n",
       "      <td>8037000301</td>\n",
       "      <td>0.06</td>\n",
       "      <td>0.05</td>\n",
       "    </tr>\n",
       "    <tr>\n",
       "      <th>4</th>\n",
       "      <td>2289</td>\n",
       "      <td>32500</td>\n",
       "      <td>639000</td>\n",
       "      <td>943</td>\n",
       "      <td>8037000302</td>\n",
       "      <td>0.07</td>\n",
       "      <td>0.07</td>\n",
       "    </tr>\n",
       "    <tr>\n",
       "      <th>...</th>\n",
       "      <td>...</td>\n",
       "      <td>...</td>\n",
       "      <td>...</td>\n",
       "      <td>...</td>\n",
       "      <td>...</td>\n",
       "      <td>...</td>\n",
       "      <td>...</td>\n",
       "    </tr>\n",
       "    <tr>\n",
       "      <th>1244</th>\n",
       "      <td>4287</td>\n",
       "      <td>21353</td>\n",
       "      <td>197000</td>\n",
       "      <td>764</td>\n",
       "      <td>8029965200</td>\n",
       "      <td>0.13</td>\n",
       "      <td>0.19</td>\n",
       "    </tr>\n",
       "    <tr>\n",
       "      <th>1245</th>\n",
       "      <td>3695</td>\n",
       "      <td>20719</td>\n",
       "      <td>114900</td>\n",
       "      <td>735</td>\n",
       "      <td>8043978200</td>\n",
       "      <td>0.15</td>\n",
       "      <td>0.21</td>\n",
       "    </tr>\n",
       "    <tr>\n",
       "      <th>1246</th>\n",
       "      <td>5341</td>\n",
       "      <td>22057</td>\n",
       "      <td>146700</td>\n",
       "      <td>610</td>\n",
       "      <td>8043978500</td>\n",
       "      <td>0.05</td>\n",
       "      <td>0.18</td>\n",
       "    </tr>\n",
       "    <tr>\n",
       "      <th>1247</th>\n",
       "      <td>5165</td>\n",
       "      <td>23180</td>\n",
       "      <td>156600</td>\n",
       "      <td>778</td>\n",
       "      <td>8043978300</td>\n",
       "      <td>0.06</td>\n",
       "      <td>0.20</td>\n",
       "    </tr>\n",
       "    <tr>\n",
       "      <th>1248</th>\n",
       "      <td>2846</td>\n",
       "      <td>18097</td>\n",
       "      <td>115100</td>\n",
       "      <td>687</td>\n",
       "      <td>8043978600</td>\n",
       "      <td>0.14</td>\n",
       "      <td>0.31</td>\n",
       "    </tr>\n",
       "  </tbody>\n",
       "</table>\n",
       "<p>1249 rows × 7 columns</p>\n",
       "</div>"
      ],
      "text/plain": [
       "      population  income  house_value  rent       tract  unemployment  poverty\n",
       "0           3504   42608       430500  2001  8035014506          0.04     0.06\n",
       "1           7359   39786       219200  1738  8035014603          0.05     0.03\n",
       "2           4096   52089       276200  1685  8035014604          0.06     0.11\n",
       "3           5984   30932       359400  1591  8037000301          0.06     0.05\n",
       "4           2289   32500       639000   943  8037000302          0.07     0.07\n",
       "...          ...     ...          ...   ...         ...           ...      ...\n",
       "1244        4287   21353       197000   764  8029965200          0.13     0.19\n",
       "1245        3695   20719       114900   735  8043978200          0.15     0.21\n",
       "1246        5341   22057       146700   610  8043978500          0.05     0.18\n",
       "1247        5165   23180       156600   778  8043978300          0.06     0.20\n",
       "1248        2846   18097       115100   687  8043978600          0.14     0.31\n",
       "\n",
       "[1249 rows x 7 columns]"
      ]
     },
     "execution_count": 4,
     "metadata": {},
     "output_type": "execute_result"
    }
   ],
   "source": [
    "data"
   ]
  },
  {
   "cell_type": "markdown",
   "id": "4e8d8c66",
   "metadata": {},
   "source": [
    "#### basic statistics of cummulative months"
   ]
  },
  {
   "cell_type": "code",
   "execution_count": 5,
   "id": "46e3221f",
   "metadata": {},
   "outputs": [],
   "source": [
    "tract_records = pd.read_csv('tract_records.csv')\n",
    "tract_records.rename(columns = {'Unnamed: 0':'tract'}, inplace = True)"
   ]
  },
  {
   "cell_type": "code",
   "execution_count": 6,
   "id": "9219f537",
   "metadata": {},
   "outputs": [
    {
     "data": {
      "text/html": [
       "<div>\n",
       "<style scoped>\n",
       "    .dataframe tbody tr th:only-of-type {\n",
       "        vertical-align: middle;\n",
       "    }\n",
       "\n",
       "    .dataframe tbody tr th {\n",
       "        vertical-align: top;\n",
       "    }\n",
       "\n",
       "    .dataframe thead th {\n",
       "        text-align: right;\n",
       "    }\n",
       "</style>\n",
       "<table border=\"1\" class=\"dataframe\">\n",
       "  <thead>\n",
       "    <tr style=\"text-align: right;\">\n",
       "      <th></th>\n",
       "      <th>tract</th>\n",
       "      <th>2014_med</th>\n",
       "      <th>2015_med</th>\n",
       "      <th>2016_med</th>\n",
       "      <th>2017_med</th>\n",
       "      <th>2018_med</th>\n",
       "      <th>2019_med</th>\n",
       "      <th>2020_med</th>\n",
       "      <th>2021_med</th>\n",
       "      <th>2014_rec</th>\n",
       "      <th>2015_rec</th>\n",
       "      <th>2016_rec</th>\n",
       "      <th>2017_rec</th>\n",
       "      <th>2018_rec</th>\n",
       "      <th>2019_rec</th>\n",
       "      <th>2020_rec</th>\n",
       "      <th>2021_rec</th>\n",
       "      <th>total</th>\n",
       "    </tr>\n",
       "  </thead>\n",
       "  <tbody>\n",
       "    <tr>\n",
       "      <th>0</th>\n",
       "      <td>2000</td>\n",
       "      <td>4.0</td>\n",
       "      <td>144.0</td>\n",
       "      <td>254.0</td>\n",
       "      <td>386.0</td>\n",
       "      <td>516.0</td>\n",
       "      <td>631.0</td>\n",
       "      <td>734.0</td>\n",
       "      <td>801.0</td>\n",
       "      <td>4.0</td>\n",
       "      <td>68.0</td>\n",
       "      <td>119.0</td>\n",
       "      <td>167.0</td>\n",
       "      <td>221.0</td>\n",
       "      <td>275.0</td>\n",
       "      <td>319.0</td>\n",
       "      <td>355.0</td>\n",
       "      <td>1156.0</td>\n",
       "    </tr>\n",
       "    <tr>\n",
       "      <th>1</th>\n",
       "      <td>967602</td>\n",
       "      <td>0.0</td>\n",
       "      <td>24.0</td>\n",
       "      <td>48.0</td>\n",
       "      <td>72.0</td>\n",
       "      <td>88.0</td>\n",
       "      <td>107.0</td>\n",
       "      <td>131.0</td>\n",
       "      <td>153.0</td>\n",
       "      <td>0.0</td>\n",
       "      <td>28.0</td>\n",
       "      <td>54.0</td>\n",
       "      <td>90.0</td>\n",
       "      <td>118.0</td>\n",
       "      <td>149.0</td>\n",
       "      <td>185.0</td>\n",
       "      <td>225.0</td>\n",
       "      <td>378.0</td>\n",
       "    </tr>\n",
       "    <tr>\n",
       "      <th>2</th>\n",
       "      <td>10402</td>\n",
       "      <td>0.0</td>\n",
       "      <td>12.0</td>\n",
       "      <td>27.0</td>\n",
       "      <td>40.0</td>\n",
       "      <td>56.0</td>\n",
       "      <td>80.0</td>\n",
       "      <td>104.0</td>\n",
       "      <td>122.0</td>\n",
       "      <td>NaN</td>\n",
       "      <td>NaN</td>\n",
       "      <td>3.0</td>\n",
       "      <td>15.0</td>\n",
       "      <td>31.0</td>\n",
       "      <td>55.0</td>\n",
       "      <td>79.0</td>\n",
       "      <td>97.0</td>\n",
       "      <td>219.0</td>\n",
       "    </tr>\n",
       "    <tr>\n",
       "      <th>3</th>\n",
       "      <td>1901</td>\n",
       "      <td>0.0</td>\n",
       "      <td>12.0</td>\n",
       "      <td>27.0</td>\n",
       "      <td>51.0</td>\n",
       "      <td>75.0</td>\n",
       "      <td>99.0</td>\n",
       "      <td>123.0</td>\n",
       "      <td>147.0</td>\n",
       "      <td>NaN</td>\n",
       "      <td>NaN</td>\n",
       "      <td>3.0</td>\n",
       "      <td>15.0</td>\n",
       "      <td>27.0</td>\n",
       "      <td>39.0</td>\n",
       "      <td>51.0</td>\n",
       "      <td>76.0</td>\n",
       "      <td>223.0</td>\n",
       "    </tr>\n",
       "    <tr>\n",
       "      <th>4</th>\n",
       "      <td>12208</td>\n",
       "      <td>14.0</td>\n",
       "      <td>67.0</td>\n",
       "      <td>133.0</td>\n",
       "      <td>211.0</td>\n",
       "      <td>258.0</td>\n",
       "      <td>296.0</td>\n",
       "      <td>335.0</td>\n",
       "      <td>359.0</td>\n",
       "      <td>14.0</td>\n",
       "      <td>67.0</td>\n",
       "      <td>133.0</td>\n",
       "      <td>214.0</td>\n",
       "      <td>273.0</td>\n",
       "      <td>328.0</td>\n",
       "      <td>391.0</td>\n",
       "      <td>438.0</td>\n",
       "      <td>797.0</td>\n",
       "    </tr>\n",
       "    <tr>\n",
       "      <th>...</th>\n",
       "      <td>...</td>\n",
       "      <td>...</td>\n",
       "      <td>...</td>\n",
       "      <td>...</td>\n",
       "      <td>...</td>\n",
       "      <td>...</td>\n",
       "      <td>...</td>\n",
       "      <td>...</td>\n",
       "      <td>...</td>\n",
       "      <td>...</td>\n",
       "      <td>...</td>\n",
       "      <td>...</td>\n",
       "      <td>...</td>\n",
       "      <td>...</td>\n",
       "      <td>...</td>\n",
       "      <td>...</td>\n",
       "      <td>...</td>\n",
       "      <td>...</td>\n",
       "    </tr>\n",
       "    <tr>\n",
       "      <th>301</th>\n",
       "      <td>1700</td>\n",
       "      <td>NaN</td>\n",
       "      <td>NaN</td>\n",
       "      <td>NaN</td>\n",
       "      <td>NaN</td>\n",
       "      <td>NaN</td>\n",
       "      <td>NaN</td>\n",
       "      <td>NaN</td>\n",
       "      <td>NaN</td>\n",
       "      <td>NaN</td>\n",
       "      <td>NaN</td>\n",
       "      <td>NaN</td>\n",
       "      <td>NaN</td>\n",
       "      <td>NaN</td>\n",
       "      <td>NaN</td>\n",
       "      <td>NaN</td>\n",
       "      <td>7.0</td>\n",
       "      <td>NaN</td>\n",
       "    </tr>\n",
       "    <tr>\n",
       "      <th>302</th>\n",
       "      <td>969601</td>\n",
       "      <td>NaN</td>\n",
       "      <td>NaN</td>\n",
       "      <td>NaN</td>\n",
       "      <td>NaN</td>\n",
       "      <td>NaN</td>\n",
       "      <td>NaN</td>\n",
       "      <td>NaN</td>\n",
       "      <td>NaN</td>\n",
       "      <td>NaN</td>\n",
       "      <td>NaN</td>\n",
       "      <td>NaN</td>\n",
       "      <td>NaN</td>\n",
       "      <td>NaN</td>\n",
       "      <td>NaN</td>\n",
       "      <td>NaN</td>\n",
       "      <td>6.0</td>\n",
       "      <td>NaN</td>\n",
       "    </tr>\n",
       "    <tr>\n",
       "      <th>303</th>\n",
       "      <td>965201</td>\n",
       "      <td>NaN</td>\n",
       "      <td>NaN</td>\n",
       "      <td>NaN</td>\n",
       "      <td>NaN</td>\n",
       "      <td>NaN</td>\n",
       "      <td>NaN</td>\n",
       "      <td>NaN</td>\n",
       "      <td>NaN</td>\n",
       "      <td>NaN</td>\n",
       "      <td>NaN</td>\n",
       "      <td>NaN</td>\n",
       "      <td>NaN</td>\n",
       "      <td>NaN</td>\n",
       "      <td>NaN</td>\n",
       "      <td>NaN</td>\n",
       "      <td>4.0</td>\n",
       "      <td>NaN</td>\n",
       "    </tr>\n",
       "    <tr>\n",
       "      <th>304</th>\n",
       "      <td>12904</td>\n",
       "      <td>NaN</td>\n",
       "      <td>NaN</td>\n",
       "      <td>NaN</td>\n",
       "      <td>NaN</td>\n",
       "      <td>NaN</td>\n",
       "      <td>NaN</td>\n",
       "      <td>NaN</td>\n",
       "      <td>NaN</td>\n",
       "      <td>NaN</td>\n",
       "      <td>NaN</td>\n",
       "      <td>NaN</td>\n",
       "      <td>NaN</td>\n",
       "      <td>NaN</td>\n",
       "      <td>NaN</td>\n",
       "      <td>NaN</td>\n",
       "      <td>4.0</td>\n",
       "      <td>NaN</td>\n",
       "    </tr>\n",
       "    <tr>\n",
       "      <th>305</th>\n",
       "      <td>13205</td>\n",
       "      <td>NaN</td>\n",
       "      <td>NaN</td>\n",
       "      <td>NaN</td>\n",
       "      <td>NaN</td>\n",
       "      <td>NaN</td>\n",
       "      <td>NaN</td>\n",
       "      <td>NaN</td>\n",
       "      <td>NaN</td>\n",
       "      <td>NaN</td>\n",
       "      <td>NaN</td>\n",
       "      <td>NaN</td>\n",
       "      <td>NaN</td>\n",
       "      <td>NaN</td>\n",
       "      <td>NaN</td>\n",
       "      <td>NaN</td>\n",
       "      <td>11.0</td>\n",
       "      <td>NaN</td>\n",
       "    </tr>\n",
       "  </tbody>\n",
       "</table>\n",
       "<p>306 rows × 18 columns</p>\n",
       "</div>"
      ],
      "text/plain": [
       "      tract  2014_med  2015_med  2016_med  2017_med  2018_med  2019_med  \\\n",
       "0      2000       4.0     144.0     254.0     386.0     516.0     631.0   \n",
       "1    967602       0.0      24.0      48.0      72.0      88.0     107.0   \n",
       "2     10402       0.0      12.0      27.0      40.0      56.0      80.0   \n",
       "3      1901       0.0      12.0      27.0      51.0      75.0      99.0   \n",
       "4     12208      14.0      67.0     133.0     211.0     258.0     296.0   \n",
       "..      ...       ...       ...       ...       ...       ...       ...   \n",
       "301    1700       NaN       NaN       NaN       NaN       NaN       NaN   \n",
       "302  969601       NaN       NaN       NaN       NaN       NaN       NaN   \n",
       "303  965201       NaN       NaN       NaN       NaN       NaN       NaN   \n",
       "304   12904       NaN       NaN       NaN       NaN       NaN       NaN   \n",
       "305   13205       NaN       NaN       NaN       NaN       NaN       NaN   \n",
       "\n",
       "     2020_med  2021_med  2014_rec  2015_rec  2016_rec  2017_rec  2018_rec  \\\n",
       "0       734.0     801.0       4.0      68.0     119.0     167.0     221.0   \n",
       "1       131.0     153.0       0.0      28.0      54.0      90.0     118.0   \n",
       "2       104.0     122.0       NaN       NaN       3.0      15.0      31.0   \n",
       "3       123.0     147.0       NaN       NaN       3.0      15.0      27.0   \n",
       "4       335.0     359.0      14.0      67.0     133.0     214.0     273.0   \n",
       "..        ...       ...       ...       ...       ...       ...       ...   \n",
       "301       NaN       NaN       NaN       NaN       NaN       NaN       NaN   \n",
       "302       NaN       NaN       NaN       NaN       NaN       NaN       NaN   \n",
       "303       NaN       NaN       NaN       NaN       NaN       NaN       NaN   \n",
       "304       NaN       NaN       NaN       NaN       NaN       NaN       NaN   \n",
       "305       NaN       NaN       NaN       NaN       NaN       NaN       NaN   \n",
       "\n",
       "     2019_rec  2020_rec  2021_rec   total  \n",
       "0       275.0     319.0     355.0  1156.0  \n",
       "1       149.0     185.0     225.0   378.0  \n",
       "2        55.0      79.0      97.0   219.0  \n",
       "3        39.0      51.0      76.0   223.0  \n",
       "4       328.0     391.0     438.0   797.0  \n",
       "..        ...       ...       ...     ...  \n",
       "301       NaN       NaN       7.0     NaN  \n",
       "302       NaN       NaN       6.0     NaN  \n",
       "303       NaN       NaN       4.0     NaN  \n",
       "304       NaN       NaN       4.0     NaN  \n",
       "305       NaN       NaN      11.0     NaN  \n",
       "\n",
       "[306 rows x 18 columns]"
      ]
     },
     "execution_count": 6,
     "metadata": {},
     "output_type": "execute_result"
    }
   ],
   "source": [
    "tract_records"
   ]
  },
  {
   "cell_type": "code",
   "execution_count": 7,
   "id": "90d53888",
   "metadata": {},
   "outputs": [],
   "source": [
    "tract_records['2014_both'] = tract_records['2014_med']+tract_records['2014_rec']\n",
    "tract_records['2014_both'].fillna(0, inplace=True)"
   ]
  },
  {
   "cell_type": "code",
   "execution_count": 8,
   "id": "2a51fd0b",
   "metadata": {},
   "outputs": [
    {
     "data": {
      "text/plain": [
       "<bound method NDFrame._add_numeric_operations.<locals>.median of 0       8.0\n",
       "1       0.0\n",
       "2       0.0\n",
       "3       0.0\n",
       "4      28.0\n",
       "       ... \n",
       "301     0.0\n",
       "302     0.0\n",
       "303     0.0\n",
       "304     0.0\n",
       "305     0.0\n",
       "Name: 2014_both, Length: 306, dtype: float64>"
      ]
     },
     "execution_count": 8,
     "metadata": {},
     "output_type": "execute_result"
    }
   ],
   "source": [
    "tract_records['2014_both'].median"
   ]
  },
  {
   "cell_type": "markdown",
   "id": "2c33bc12",
   "metadata": {},
   "source": [
    "We only have tract records for 306 tracts, so assuming  others do not have any dispensary."
   ]
  },
  {
   "cell_type": "markdown",
   "id": "c5d2074f",
   "metadata": {},
   "source": [
    "#### merge two datasets "
   ]
  },
  {
   "cell_type": "code",
   "execution_count": 9,
   "id": "23adf069",
   "metadata": {},
   "outputs": [
    {
     "data": {
      "text/plain": [
       "306"
      ]
     },
     "execution_count": 9,
     "metadata": {},
     "output_type": "execute_result"
    }
   ],
   "source": [
    "len(tract_records)"
   ]
  },
  {
   "cell_type": "code",
   "execution_count": 10,
   "id": "090c836b",
   "metadata": {},
   "outputs": [
    {
     "data": {
      "text/plain": [
       "1249"
      ]
     },
     "execution_count": 10,
     "metadata": {},
     "output_type": "execute_result"
    }
   ],
   "source": [
    "len(data)"
   ]
  },
  {
   "cell_type": "code",
   "execution_count": 11,
   "id": "1da2a8ae",
   "metadata": {},
   "outputs": [],
   "source": [
    "data['tract_str'] = data['tract'].astype(str)"
   ]
  },
  {
   "cell_type": "code",
   "execution_count": 12,
   "id": "9ae38760",
   "metadata": {},
   "outputs": [],
   "source": [
    "def last_6_digit(x):\n",
    "    return x[-6:]"
   ]
  },
  {
   "cell_type": "code",
   "execution_count": 13,
   "id": "62c477ec",
   "metadata": {},
   "outputs": [],
   "source": [
    "data['tract_str_last6'] = data['tract_str'].apply(last_6_digit)"
   ]
  },
  {
   "cell_type": "code",
   "execution_count": 14,
   "id": "0ee26b0a",
   "metadata": {},
   "outputs": [],
   "source": [
    "data['tract'] = data['tract_str_last6'].astype(int)"
   ]
  },
  {
   "cell_type": "code",
   "execution_count": 15,
   "id": "6b6bf1ac",
   "metadata": {},
   "outputs": [
    {
     "data": {
      "text/plain": [
       "0        14506\n",
       "1        14603\n",
       "2        14604\n",
       "3          301\n",
       "4          302\n",
       "         ...  \n",
       "1244    965200\n",
       "1245    978200\n",
       "1246    978500\n",
       "1247    978300\n",
       "1248    978600\n",
       "Name: tract, Length: 1249, dtype: int32"
      ]
     },
     "execution_count": 15,
     "metadata": {},
     "output_type": "execute_result"
    }
   ],
   "source": [
    "data['tract']"
   ]
  },
  {
   "cell_type": "code",
   "execution_count": 16,
   "id": "c040d7fe",
   "metadata": {},
   "outputs": [],
   "source": [
    "data_prepared = pd.merge(data, tract_records, on = \"tract\", how=\"left\")"
   ]
  },
  {
   "cell_type": "code",
   "execution_count": 17,
   "id": "eb480717",
   "metadata": {},
   "outputs": [],
   "source": [
    "data_prepared['2014_both'].fillna(0, inplace=True)"
   ]
  },
  {
   "cell_type": "code",
   "execution_count": 18,
   "id": "5847486e",
   "metadata": {},
   "outputs": [
    {
     "data": {
      "text/plain": [
       "<bound method NDFrame._add_numeric_operations.<locals>.median of 0       0.0\n",
       "1       0.0\n",
       "2       0.0\n",
       "3       0.0\n",
       "4       8.0\n",
       "       ... \n",
       "1244    0.0\n",
       "1245    0.0\n",
       "1246    0.0\n",
       "1247    0.0\n",
       "1248    0.0\n",
       "Name: 2014_both, Length: 1249, dtype: float64>"
      ]
     },
     "execution_count": 18,
     "metadata": {},
     "output_type": "execute_result"
    }
   ],
   "source": [
    "data_prepared['2014_both'].median"
   ]
  },
  {
   "cell_type": "code",
   "execution_count": 19,
   "id": "e2fee752",
   "metadata": {},
   "outputs": [
    {
     "data": {
      "text/plain": [
       "0.0     1174\n",
       "16.0      17\n",
       "22.0      15\n",
       "8.0        8\n",
       "12.0       7\n",
       "9.0        5\n",
       "18.0       5\n",
       "10.0       4\n",
       "4.0        2\n",
       "33.0       2\n",
       "5.0        2\n",
       "2.0        2\n",
       "20.0       2\n",
       "17.0       1\n",
       "14.0       1\n",
       "36.0       1\n",
       "26.0       1\n",
       "Name: 2014_both, dtype: int64"
      ]
     },
     "execution_count": 19,
     "metadata": {},
     "output_type": "execute_result"
    }
   ],
   "source": [
    "data_prepared['2014_both'].value_counts()"
   ]
  },
  {
   "cell_type": "markdown",
   "id": "c6392706",
   "metadata": {},
   "source": [
    "Among all 1249 tracts, the median of cummulative months is 0."
   ]
  },
  {
   "cell_type": "code",
   "execution_count": 20,
   "id": "b84ce72a",
   "metadata": {},
   "outputs": [
    {
     "data": {
      "text/plain": [
       "Index(['population', 'income', 'house_value', 'rent', 'tract', 'unemployment',\n",
       "       'poverty', 'tract_str', 'tract_str_last6', '2014_med', '2015_med',\n",
       "       '2016_med', '2017_med', '2018_med', '2019_med', '2020_med', '2021_med',\n",
       "       '2014_rec', '2015_rec', '2016_rec', '2017_rec', '2018_rec', '2019_rec',\n",
       "       '2020_rec', '2021_rec', 'total', '2014_both'],\n",
       "      dtype='object')"
      ]
     },
     "execution_count": 20,
     "metadata": {},
     "output_type": "execute_result"
    }
   ],
   "source": [
    "data_prepared.columns "
   ]
  },
  {
   "cell_type": "code",
   "execution_count": 21,
   "id": "c2b2ee58",
   "metadata": {},
   "outputs": [],
   "source": [
    "data_prepared = data_prepared[['population', 'income', 'house_value', 'rent', 'unemployment',\n",
    "       'poverty', '2014_both']]"
   ]
  },
  {
   "cell_type": "code",
   "execution_count": 22,
   "id": "79e7d428",
   "metadata": {},
   "outputs": [
    {
     "data": {
      "text/plain": [
       "Index(['population', 'income', 'house_value', 'rent', 'unemployment',\n",
       "       'poverty', '2014_both'],\n",
       "      dtype='object')"
      ]
     },
     "execution_count": 22,
     "metadata": {},
     "output_type": "execute_result"
    }
   ],
   "source": [
    "data_prepared.columns"
   ]
  },
  {
   "cell_type": "markdown",
   "id": "2c481eff",
   "metadata": {},
   "source": [
    "#### Create test and control groups and let dispensary_status to be a binary treatment indicator."
   ]
  },
  {
   "cell_type": "code",
   "execution_count": 33,
   "id": "33952c13",
   "metadata": {},
   "outputs": [],
   "source": [
    "test = data_prepared[data_prepared['2014_both'] <= 12 ]\n",
    "control = data_prepared[data_prepared['2014_both'] > 12]\n",
    "test['dispensary_status'] = 0\n",
    "control['dispensary_status'] = 1\n",
    "test = test.drop(['2014_both'], axis=1)\n",
    "control = control.drop(['2014_both'], axis=1)"
   ]
  },
  {
   "cell_type": "code",
   "execution_count": 34,
   "id": "4fccfae1",
   "metadata": {},
   "outputs": [
    {
     "data": {
      "text/html": [
       "<div>\n",
       "<style scoped>\n",
       "    .dataframe tbody tr th:only-of-type {\n",
       "        vertical-align: middle;\n",
       "    }\n",
       "\n",
       "    .dataframe tbody tr th {\n",
       "        vertical-align: top;\n",
       "    }\n",
       "\n",
       "    .dataframe thead th {\n",
       "        text-align: right;\n",
       "    }\n",
       "</style>\n",
       "<table border=\"1\" class=\"dataframe\">\n",
       "  <thead>\n",
       "    <tr style=\"text-align: right;\">\n",
       "      <th></th>\n",
       "      <th>population</th>\n",
       "      <th>income</th>\n",
       "      <th>house_value</th>\n",
       "      <th>rent</th>\n",
       "      <th>unemployment</th>\n",
       "      <th>poverty</th>\n",
       "      <th>dispensary_status</th>\n",
       "    </tr>\n",
       "  </thead>\n",
       "  <tbody>\n",
       "    <tr>\n",
       "      <th>974</th>\n",
       "      <td>4001</td>\n",
       "      <td>25074</td>\n",
       "      <td>197900</td>\n",
       "      <td>821</td>\n",
       "      <td>0.13</td>\n",
       "      <td>0.18</td>\n",
       "      <td>0</td>\n",
       "    </tr>\n",
       "  </tbody>\n",
       "</table>\n",
       "</div>"
      ],
      "text/plain": [
       "     population  income  house_value  rent  unemployment  poverty  \\\n",
       "974        4001   25074       197900   821          0.13     0.18   \n",
       "\n",
       "     dispensary_status  \n",
       "974                  0  "
      ]
     },
     "execution_count": 34,
     "metadata": {},
     "output_type": "execute_result"
    }
   ],
   "source": [
    "test.sample()"
   ]
  },
  {
   "cell_type": "code",
   "execution_count": 35,
   "id": "b4319c9c",
   "metadata": {},
   "outputs": [
    {
     "data": {
      "text/html": [
       "<div>\n",
       "<style scoped>\n",
       "    .dataframe tbody tr th:only-of-type {\n",
       "        vertical-align: middle;\n",
       "    }\n",
       "\n",
       "    .dataframe tbody tr th {\n",
       "        vertical-align: top;\n",
       "    }\n",
       "\n",
       "    .dataframe thead th {\n",
       "        text-align: right;\n",
       "    }\n",
       "</style>\n",
       "<table border=\"1\" class=\"dataframe\">\n",
       "  <thead>\n",
       "    <tr style=\"text-align: right;\">\n",
       "      <th></th>\n",
       "      <th>population</th>\n",
       "      <th>income</th>\n",
       "      <th>house_value</th>\n",
       "      <th>rent</th>\n",
       "      <th>unemployment</th>\n",
       "      <th>poverty</th>\n",
       "      <th>dispensary_status</th>\n",
       "    </tr>\n",
       "  </thead>\n",
       "  <tbody>\n",
       "    <tr>\n",
       "      <th>1070</th>\n",
       "      <td>2506</td>\n",
       "      <td>30082</td>\n",
       "      <td>430600</td>\n",
       "      <td>1225</td>\n",
       "      <td>0.06</td>\n",
       "      <td>0.15</td>\n",
       "      <td>1</td>\n",
       "    </tr>\n",
       "  </tbody>\n",
       "</table>\n",
       "</div>"
      ],
      "text/plain": [
       "      population  income  house_value  rent  unemployment  poverty  \\\n",
       "1070        2506   30082       430600  1225          0.06     0.15   \n",
       "\n",
       "      dispensary_status  \n",
       "1070                  1  "
      ]
     },
     "execution_count": 35,
     "metadata": {},
     "output_type": "execute_result"
    }
   ],
   "source": [
    "control.sample()"
   ]
  },
  {
   "cell_type": "markdown",
   "id": "fb94223d",
   "metadata": {},
   "source": [
    "## Create Matcher and do the matching"
   ]
  },
  {
   "cell_type": "code",
   "execution_count": 36,
   "id": "afd0b0c7",
   "metadata": {},
   "outputs": [
    {
     "name": "stdout",
     "output_type": "stream",
     "text": [
      "Formula:\n",
      "dispensary_status ~ population+income+house_value+rent+unemployment+poverty\n",
      "n majority: 1192\n",
      "n minority: 45\n"
     ]
    }
   ],
   "source": [
    "m = Matcher(test, control, yvar=\"dispensary_status\", exclude=[])"
   ]
  },
  {
   "cell_type": "markdown",
   "id": "292762d2",
   "metadata": {},
   "source": [
    "data imbalance noticed"
   ]
  },
  {
   "cell_type": "code",
   "execution_count": 37,
   "id": "6ea8fe5d",
   "metadata": {},
   "outputs": [
    {
     "name": "stdout",
     "output_type": "stream",
     "text": [
      "Fitting Models on Balanced Samples: 200\\200\n",
      "Average Accuracy: 64.54%\n"
     ]
    }
   ],
   "source": [
    "np.random.seed(42)\n",
    "m.fit_scores(balance=True, nmodels=200)"
   ]
  },
  {
   "cell_type": "code",
   "execution_count": 38,
   "id": "6ad5ba13",
   "metadata": {},
   "outputs": [],
   "source": [
    "m.predict_scores()"
   ]
  },
  {
   "cell_type": "code",
   "execution_count": 39,
   "id": "d55b2608",
   "metadata": {},
   "outputs": [
    {
     "data": {
      "image/png": "[encoded data removed]",
      "text/plain": [
       "<Figure size 720x360 with 1 Axes>"
      ]
     },
     "metadata": {
      "needs_background": "light"
     },
     "output_type": "display_data"
    }
   ],
   "source": [
    "m.plot_scores()"
   ]
  },
  {
   "cell_type": "code",
   "execution_count": 77,
   "id": "ddd89950",
   "metadata": {},
   "outputs": [],
   "source": [
    "m.match(method=\"min\", nmatches=1, threshold=0.0001)"
   ]
  },
  {
   "cell_type": "code",
   "execution_count": 80,
   "id": "a5149363",
   "metadata": {},
   "outputs": [],
   "source": [
    "matched_pairs_df = m.matched_data.sort_values(\"match_id\")"
   ]
  },
  {
   "cell_type": "code",
   "execution_count": 81,
   "id": "74bb749b",
   "metadata": {},
   "outputs": [
    {
     "data": {
      "text/html": [
       "<div>\n",
       "<style scoped>\n",
       "    .dataframe tbody tr th:only-of-type {\n",
       "        vertical-align: middle;\n",
       "    }\n",
       "\n",
       "    .dataframe tbody tr th {\n",
       "        vertical-align: top;\n",
       "    }\n",
       "\n",
       "    .dataframe thead th {\n",
       "        text-align: right;\n",
       "    }\n",
       "</style>\n",
       "<table border=\"1\" class=\"dataframe\">\n",
       "  <thead>\n",
       "    <tr style=\"text-align: right;\">\n",
       "      <th></th>\n",
       "      <th>population</th>\n",
       "      <th>income</th>\n",
       "      <th>house_value</th>\n",
       "      <th>rent</th>\n",
       "      <th>unemployment</th>\n",
       "      <th>poverty</th>\n",
       "      <th>tract</th>\n",
       "      <th>dispensary_status</th>\n",
       "      <th>scores</th>\n",
       "      <th>match_id</th>\n",
       "      <th>record_id</th>\n",
       "    </tr>\n",
       "  </thead>\n",
       "  <tbody>\n",
       "    <tr>\n",
       "      <th>1204</th>\n",
       "      <td>3150</td>\n",
       "      <td>30923</td>\n",
       "      <td>181900</td>\n",
       "      <td>935</td>\n",
       "      <td>0.10</td>\n",
       "      <td>0.04</td>\n",
       "      <td>6812</td>\n",
       "      <td>1</td>\n",
       "      <td>0.538191</td>\n",
       "      <td>0</td>\n",
       "      <td>1204</td>\n",
       "    </tr>\n",
       "    <tr>\n",
       "      <th>1159</th>\n",
       "      <td>1766</td>\n",
       "      <td>26132</td>\n",
       "      <td>123800</td>\n",
       "      <td>806</td>\n",
       "      <td>0.14</td>\n",
       "      <td>0.21</td>\n",
       "      <td>4009</td>\n",
       "      <td>0</td>\n",
       "      <td>0.538284</td>\n",
       "      <td>0</td>\n",
       "      <td>1159</td>\n",
       "    </tr>\n",
       "    <tr>\n",
       "      <th>1205</th>\n",
       "      <td>3010</td>\n",
       "      <td>33648</td>\n",
       "      <td>168900</td>\n",
       "      <td>1160</td>\n",
       "      <td>0.04</td>\n",
       "      <td>0.20</td>\n",
       "      <td>1403</td>\n",
       "      <td>1</td>\n",
       "      <td>0.511776</td>\n",
       "      <td>1</td>\n",
       "      <td>1205</td>\n",
       "    </tr>\n",
       "    <tr>\n",
       "      <th>1116</th>\n",
       "      <td>6627</td>\n",
       "      <td>19237</td>\n",
       "      <td>98100</td>\n",
       "      <td>881</td>\n",
       "      <td>0.15</td>\n",
       "      <td>0.35</td>\n",
       "      <td>3500</td>\n",
       "      <td>0</td>\n",
       "      <td>0.511807</td>\n",
       "      <td>1</td>\n",
       "      <td>1116</td>\n",
       "    </tr>\n",
       "    <tr>\n",
       "      <th>1206</th>\n",
       "      <td>12030</td>\n",
       "      <td>41944</td>\n",
       "      <td>196900</td>\n",
       "      <td>1395</td>\n",
       "      <td>0.06</td>\n",
       "      <td>0.06</td>\n",
       "      <td>4503</td>\n",
       "      <td>1</td>\n",
       "      <td>0.227179</td>\n",
       "      <td>2</td>\n",
       "      <td>1206</td>\n",
       "    </tr>\n",
       "    <tr>\n",
       "      <th>...</th>\n",
       "      <td>...</td>\n",
       "      <td>...</td>\n",
       "      <td>...</td>\n",
       "      <td>...</td>\n",
       "      <td>...</td>\n",
       "      <td>...</td>\n",
       "      <td>...</td>\n",
       "      <td>...</td>\n",
       "      <td>...</td>\n",
       "      <td>...</td>\n",
       "      <td>...</td>\n",
       "    </tr>\n",
       "    <tr>\n",
       "      <th>1145</th>\n",
       "      <td>3298</td>\n",
       "      <td>13020</td>\n",
       "      <td>333200</td>\n",
       "      <td>1329</td>\n",
       "      <td>0.08</td>\n",
       "      <td>0.40</td>\n",
       "      <td>201</td>\n",
       "      <td>0</td>\n",
       "      <td>0.737664</td>\n",
       "      <td>42</td>\n",
       "      <td>1145</td>\n",
       "    </tr>\n",
       "    <tr>\n",
       "      <th>1247</th>\n",
       "      <td>2571</td>\n",
       "      <td>34411</td>\n",
       "      <td>192100</td>\n",
       "      <td>894</td>\n",
       "      <td>0.02</td>\n",
       "      <td>0.02</td>\n",
       "      <td>100</td>\n",
       "      <td>1</td>\n",
       "      <td>0.616062</td>\n",
       "      <td>43</td>\n",
       "      <td>1247</td>\n",
       "    </tr>\n",
       "    <tr>\n",
       "      <th>492</th>\n",
       "      <td>4840</td>\n",
       "      <td>22223</td>\n",
       "      <td>218000</td>\n",
       "      <td>680</td>\n",
       "      <td>0.12</td>\n",
       "      <td>0.15</td>\n",
       "      <td>9607</td>\n",
       "      <td>0</td>\n",
       "      <td>0.616461</td>\n",
       "      <td>43</td>\n",
       "      <td>492</td>\n",
       "    </tr>\n",
       "    <tr>\n",
       "      <th>1248</th>\n",
       "      <td>2435</td>\n",
       "      <td>33013</td>\n",
       "      <td>236300</td>\n",
       "      <td>784</td>\n",
       "      <td>0.07</td>\n",
       "      <td>0.08</td>\n",
       "      <td>14900</td>\n",
       "      <td>1</td>\n",
       "      <td>0.548909</td>\n",
       "      <td>44</td>\n",
       "      <td>1248</td>\n",
       "    </tr>\n",
       "    <tr>\n",
       "      <th>117</th>\n",
       "      <td>3966</td>\n",
       "      <td>30729</td>\n",
       "      <td>185800</td>\n",
       "      <td>1043</td>\n",
       "      <td>0.07</td>\n",
       "      <td>0.10</td>\n",
       "      <td>201</td>\n",
       "      <td>0</td>\n",
       "      <td>0.548760</td>\n",
       "      <td>44</td>\n",
       "      <td>117</td>\n",
       "    </tr>\n",
       "  </tbody>\n",
       "</table>\n",
       "<p>90 rows × 11 columns</p>\n",
       "</div>"
      ],
      "text/plain": [
       "      population  income  house_value  rent  unemployment  poverty  tract  \\\n",
       "1204        3150   30923       181900   935          0.10     0.04   6812   \n",
       "1159        1766   26132       123800   806          0.14     0.21   4009   \n",
       "1205        3010   33648       168900  1160          0.04     0.20   1403   \n",
       "1116        6627   19237        98100   881          0.15     0.35   3500   \n",
       "1206       12030   41944       196900  1395          0.06     0.06   4503   \n",
       "...          ...     ...          ...   ...           ...      ...    ...   \n",
       "1145        3298   13020       333200  1329          0.08     0.40    201   \n",
       "1247        2571   34411       192100   894          0.02     0.02    100   \n",
       "492         4840   22223       218000   680          0.12     0.15   9607   \n",
       "1248        2435   33013       236300   784          0.07     0.08  14900   \n",
       "117         3966   30729       185800  1043          0.07     0.10    201   \n",
       "\n",
       "      dispensary_status    scores  match_id  record_id  \n",
       "1204                  1  0.538191         0       1204  \n",
       "1159                  0  0.538284         0       1159  \n",
       "1205                  1  0.511776         1       1205  \n",
       "1116                  0  0.511807         1       1116  \n",
       "1206                  1  0.227179         2       1206  \n",
       "...                 ...       ...       ...        ...  \n",
       "1145                  0  0.737664        42       1145  \n",
       "1247                  1  0.616062        43       1247  \n",
       "492                   0  0.616461        43        492  \n",
       "1248                  1  0.548909        44       1248  \n",
       "117                   0  0.548760        44        117  \n",
       "\n",
       "[90 rows x 11 columns]"
      ]
     },
     "execution_count": 81,
     "metadata": {},
     "output_type": "execute_result"
    }
   ],
   "source": [
    "matched_pairs_df"
   ]
  },
  {
   "cell_type": "code",
   "execution_count": 82,
   "id": "7f6379a4",
   "metadata": {},
   "outputs": [],
   "source": [
    "matched_pairs_df.to_csv('matched_pairs.csv')"
   ]
  },
  {
   "cell_type": "code",
   "execution_count": null,
   "id": "cdea1d49",
   "metadata": {},
   "outputs": [],
   "source": []
  },
  {
   "cell_type": "code",
   "execution_count": null,
   "id": "60d5bee2",
   "metadata": {},
   "outputs": [],
   "source": []
  }
 ],
 "metadata": {
  "kernelspec": {
   "display_name": "Python 3 (ipykernel)",
   "language": "python",
   "name": "python3"
  },
  "language_info": {
   "codemirror_mode": {
    "name": "ipython",
    "version": 3
   },
   "file_extension": ".py",
   "mimetype": "text/x-python",
   "name": "python",
   "nbconvert_exporter": "python",
   "pygments_lexer": "ipython3",
   "version": "3.9.7"
  }
 },
 "nbformat": 4,
 "nbformat_minor": 5
}
