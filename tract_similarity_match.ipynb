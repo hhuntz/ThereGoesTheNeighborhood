{
 "cells": [
  {
   "cell_type": "markdown",
   "id": "7dd6644a",
   "metadata": {},
   "source": [
    "## Install pymatch"
   ]
  },
  {
   "cell_type": "code",
   "execution_count": 4,
   "id": "590d5098",
   "metadata": {
    "scrolled": true
   },
   "outputs": [
    {
     "name": "stdout",
     "output_type": "stream",
     "text": [
      "Collecting pymatch"
     ]
    },
    {
     "name": "stderr",
     "output_type": "stream",
     "text": [
      "WARNING: You are using pip version 22.0.3; however, version 23.0.1 is available.\n",
      "You should consider upgrading via the 'C:\\Users\\10157\\AppData\\Local\\Programs\\Python\\Python39\\python.exe -m pip install --upgrade pip' command.\n"
     ]
    },
    {
     "name": "stdout",
     "output_type": "stream",
     "text": [
      "\n",
      "  Downloading pymatch-0.3.4.tar.gz (13 kB)\n",
      "  Preparing metadata (setup.py): started\n",
      "  Preparing metadata (setup.py): finished with status 'done'\n",
      "Building wheels for collected packages: pymatch\n",
      "  Building wheel for pymatch (setup.py): started\n",
      "  Building wheel for pymatch (setup.py): finished with status 'done'\n",
      "  Created wheel for pymatch: filename=pymatch-0.3.4-py3-none-any.whl size=9117 sha256=04f48d969b7cc52fc093ab199aea1a5d17875ca62f40276b2664671d1849718a\n",
      "  Stored in directory: c:\\users\\10157\\appdata\\local\\pip\\cache\\wheels\\f2\\10\\99\\d835e60df49ea4e8dffe9b92225760e449e887d54e8d109b5e\n",
      "Successfully built pymatch\n",
      "Installing collected packages: pymatch\n",
      "Successfully installed pymatch-0.3.4\n"
     ]
    }
   ],
   "source": [
    "#!pip install pymatch"
   ]
  },
  {
   "cell_type": "markdown",
   "id": "29008025",
   "metadata": {},
   "source": [
    "## Import Libs"
   ]
  },
  {
   "cell_type": "code",
   "execution_count": 1,
   "id": "8538e0d3",
   "metadata": {},
   "outputs": [],
   "source": [
    "import warnings\n",
    "warnings.filterwarnings('ignore')\n",
    "from pymatch.Matcher import Matcher\n",
    "import pandas as pd\n",
    "import numpy as np\n",
    "\n",
    "%matplotlib inline"
   ]
  },
  {
   "cell_type": "markdown",
   "id": "82683578",
   "metadata": {},
   "source": [
    "## Prepare Data"
   ]
  },
  {
   "cell_type": "code",
   "execution_count": 200,
   "id": "0612864f",
   "metadata": {},
   "outputs": [],
   "source": [
    "data = pd.read_csv('census_data/co_2021.csv')"
   ]
  },
  {
   "cell_type": "code",
   "execution_count": 201,
   "id": "8da98a64",
   "metadata": {},
   "outputs": [],
   "source": [
    "data = data.drop('Unnamed: 0', axis=1)"
   ]
  },
  {
   "cell_type": "code",
   "execution_count": 202,
   "id": "777ce9eb",
   "metadata": {},
   "outputs": [
    {
     "data": {
      "text/html": [
       "<div>\n",
       "<style scoped>\n",
       "    .dataframe tbody tr th:only-of-type {\n",
       "        vertical-align: middle;\n",
       "    }\n",
       "\n",
       "    .dataframe tbody tr th {\n",
       "        vertical-align: top;\n",
       "    }\n",
       "\n",
       "    .dataframe thead th {\n",
       "        text-align: right;\n",
       "    }\n",
       "</style>\n",
       "<table border=\"1\" class=\"dataframe\">\n",
       "  <thead>\n",
       "    <tr style=\"text-align: right;\">\n",
       "      <th></th>\n",
       "      <th>population</th>\n",
       "      <th>income</th>\n",
       "      <th>house_value</th>\n",
       "      <th>rent</th>\n",
       "      <th>tract</th>\n",
       "      <th>unemployment</th>\n",
       "      <th>poverty</th>\n",
       "    </tr>\n",
       "  </thead>\n",
       "  <tbody>\n",
       "    <tr>\n",
       "      <th>0</th>\n",
       "      <td>4027</td>\n",
       "      <td>22984</td>\n",
       "      <td>325000</td>\n",
       "      <td>1062</td>\n",
       "      <td>8001007801</td>\n",
       "      <td>0.08</td>\n",
       "      <td>0.30</td>\n",
       "    </tr>\n",
       "    <tr>\n",
       "      <th>1</th>\n",
       "      <td>4598</td>\n",
       "      <td>25444</td>\n",
       "      <td>300500</td>\n",
       "      <td>1061</td>\n",
       "      <td>8001007802</td>\n",
       "      <td>0.07</td>\n",
       "      <td>0.32</td>\n",
       "    </tr>\n",
       "    <tr>\n",
       "      <th>2</th>\n",
       "      <td>5749</td>\n",
       "      <td>31779</td>\n",
       "      <td>304000</td>\n",
       "      <td>1190</td>\n",
       "      <td>8001007900</td>\n",
       "      <td>0.07</td>\n",
       "      <td>0.18</td>\n",
       "    </tr>\n",
       "    <tr>\n",
       "      <th>3</th>\n",
       "      <td>5515</td>\n",
       "      <td>30644</td>\n",
       "      <td>336500</td>\n",
       "      <td>1363</td>\n",
       "      <td>8001008000</td>\n",
       "      <td>0.04</td>\n",
       "      <td>0.09</td>\n",
       "    </tr>\n",
       "    <tr>\n",
       "      <th>4</th>\n",
       "      <td>1538</td>\n",
       "      <td>30441</td>\n",
       "      <td>-666666666</td>\n",
       "      <td>1815</td>\n",
       "      <td>8001008100</td>\n",
       "      <td>0.03</td>\n",
       "      <td>0.23</td>\n",
       "    </tr>\n",
       "    <tr>\n",
       "      <th>...</th>\n",
       "      <td>...</td>\n",
       "      <td>...</td>\n",
       "      <td>...</td>\n",
       "      <td>...</td>\n",
       "      <td>...</td>\n",
       "      <td>...</td>\n",
       "      <td>...</td>\n",
       "    </tr>\n",
       "    <tr>\n",
       "      <th>1442</th>\n",
       "      <td>5581</td>\n",
       "      <td>40310</td>\n",
       "      <td>371700</td>\n",
       "      <td>1252</td>\n",
       "      <td>8123002300</td>\n",
       "      <td>0.02</td>\n",
       "      <td>0.08</td>\n",
       "    </tr>\n",
       "    <tr>\n",
       "      <th>1443</th>\n",
       "      <td>5870</td>\n",
       "      <td>36788</td>\n",
       "      <td>357700</td>\n",
       "      <td>822</td>\n",
       "      <td>8123002501</td>\n",
       "      <td>0.09</td>\n",
       "      <td>0.20</td>\n",
       "    </tr>\n",
       "    <tr>\n",
       "      <th>1444</th>\n",
       "      <td>7335</td>\n",
       "      <td>33352</td>\n",
       "      <td>345600</td>\n",
       "      <td>1203</td>\n",
       "      <td>8123002502</td>\n",
       "      <td>0.04</td>\n",
       "      <td>0.11</td>\n",
       "    </tr>\n",
       "    <tr>\n",
       "      <th>1445</th>\n",
       "      <td>4229</td>\n",
       "      <td>33886</td>\n",
       "      <td>187700</td>\n",
       "      <td>843</td>\n",
       "      <td>8125963100</td>\n",
       "      <td>0.05</td>\n",
       "      <td>0.12</td>\n",
       "    </tr>\n",
       "    <tr>\n",
       "      <th>1446</th>\n",
       "      <td>5715</td>\n",
       "      <td>34737</td>\n",
       "      <td>180200</td>\n",
       "      <td>901</td>\n",
       "      <td>8125963200</td>\n",
       "      <td>0.07</td>\n",
       "      <td>0.16</td>\n",
       "    </tr>\n",
       "  </tbody>\n",
       "</table>\n",
       "<p>1447 rows × 7 columns</p>\n",
       "</div>"
      ],
      "text/plain": [
       "      population  income  house_value  rent       tract  unemployment  poverty\n",
       "0           4027   22984       325000  1062  8001007801          0.08     0.30\n",
       "1           4598   25444       300500  1061  8001007802          0.07     0.32\n",
       "2           5749   31779       304000  1190  8001007900          0.07     0.18\n",
       "3           5515   30644       336500  1363  8001008000          0.04     0.09\n",
       "4           1538   30441   -666666666  1815  8001008100          0.03     0.23\n",
       "...          ...     ...          ...   ...         ...           ...      ...\n",
       "1442        5581   40310       371700  1252  8123002300          0.02     0.08\n",
       "1443        5870   36788       357700   822  8123002501          0.09     0.20\n",
       "1444        7335   33352       345600  1203  8123002502          0.04     0.11\n",
       "1445        4229   33886       187700   843  8125963100          0.05     0.12\n",
       "1446        5715   34737       180200   901  8125963200          0.07     0.16\n",
       "\n",
       "[1447 rows x 7 columns]"
      ]
     },
     "execution_count": 202,
     "metadata": {},
     "output_type": "execute_result"
    }
   ],
   "source": [
    "data"
   ]
  },
  {
   "cell_type": "markdown",
   "id": "3db58ca8",
   "metadata": {},
   "source": [
    "#### basic statistics of cummulative months"
   ]
  },
  {
   "cell_type": "code",
   "execution_count": 203,
   "id": "9d546f59",
   "metadata": {},
   "outputs": [],
   "source": [
    "tract_records = pd.read_csv('tract_records.csv')\n",
    "tract_records.rename(columns = {'Unnamed: 0':'tract'}, inplace = True)"
   ]
  },
  {
   "cell_type": "code",
   "execution_count": 204,
   "id": "3a0da46d",
   "metadata": {},
   "outputs": [
    {
     "data": {
      "text/html": [
       "<div>\n",
       "<style scoped>\n",
       "    .dataframe tbody tr th:only-of-type {\n",
       "        vertical-align: middle;\n",
       "    }\n",
       "\n",
       "    .dataframe tbody tr th {\n",
       "        vertical-align: top;\n",
       "    }\n",
       "\n",
       "    .dataframe thead th {\n",
       "        text-align: right;\n",
       "    }\n",
       "</style>\n",
       "<table border=\"1\" class=\"dataframe\">\n",
       "  <thead>\n",
       "    <tr style=\"text-align: right;\">\n",
       "      <th></th>\n",
       "      <th>tract</th>\n",
       "      <th>2014_med</th>\n",
       "      <th>2015_med</th>\n",
       "      <th>2016_med</th>\n",
       "      <th>2017_med</th>\n",
       "      <th>2018_med</th>\n",
       "      <th>2019_med</th>\n",
       "      <th>2020_med</th>\n",
       "      <th>2021_med</th>\n",
       "      <th>2014_rec</th>\n",
       "      <th>2015_rec</th>\n",
       "      <th>2016_rec</th>\n",
       "      <th>2017_rec</th>\n",
       "      <th>2018_rec</th>\n",
       "      <th>2019_rec</th>\n",
       "      <th>2020_rec</th>\n",
       "      <th>2021_rec</th>\n",
       "      <th>total</th>\n",
       "    </tr>\n",
       "  </thead>\n",
       "  <tbody>\n",
       "    <tr>\n",
       "      <th>0</th>\n",
       "      <td>2000</td>\n",
       "      <td>4.0</td>\n",
       "      <td>144.0</td>\n",
       "      <td>254.0</td>\n",
       "      <td>386.0</td>\n",
       "      <td>516.0</td>\n",
       "      <td>631.0</td>\n",
       "      <td>734.0</td>\n",
       "      <td>801.0</td>\n",
       "      <td>4.0</td>\n",
       "      <td>68.0</td>\n",
       "      <td>119.0</td>\n",
       "      <td>167.0</td>\n",
       "      <td>221.0</td>\n",
       "      <td>275.0</td>\n",
       "      <td>319.0</td>\n",
       "      <td>355.0</td>\n",
       "      <td>1156.0</td>\n",
       "    </tr>\n",
       "    <tr>\n",
       "      <th>1</th>\n",
       "      <td>967602</td>\n",
       "      <td>0.0</td>\n",
       "      <td>24.0</td>\n",
       "      <td>48.0</td>\n",
       "      <td>72.0</td>\n",
       "      <td>88.0</td>\n",
       "      <td>107.0</td>\n",
       "      <td>131.0</td>\n",
       "      <td>153.0</td>\n",
       "      <td>0.0</td>\n",
       "      <td>28.0</td>\n",
       "      <td>54.0</td>\n",
       "      <td>90.0</td>\n",
       "      <td>118.0</td>\n",
       "      <td>149.0</td>\n",
       "      <td>185.0</td>\n",
       "      <td>225.0</td>\n",
       "      <td>378.0</td>\n",
       "    </tr>\n",
       "    <tr>\n",
       "      <th>2</th>\n",
       "      <td>10402</td>\n",
       "      <td>0.0</td>\n",
       "      <td>12.0</td>\n",
       "      <td>27.0</td>\n",
       "      <td>40.0</td>\n",
       "      <td>56.0</td>\n",
       "      <td>80.0</td>\n",
       "      <td>104.0</td>\n",
       "      <td>122.0</td>\n",
       "      <td>NaN</td>\n",
       "      <td>NaN</td>\n",
       "      <td>3.0</td>\n",
       "      <td>15.0</td>\n",
       "      <td>31.0</td>\n",
       "      <td>55.0</td>\n",
       "      <td>79.0</td>\n",
       "      <td>97.0</td>\n",
       "      <td>219.0</td>\n",
       "    </tr>\n",
       "    <tr>\n",
       "      <th>3</th>\n",
       "      <td>1901</td>\n",
       "      <td>0.0</td>\n",
       "      <td>12.0</td>\n",
       "      <td>27.0</td>\n",
       "      <td>51.0</td>\n",
       "      <td>75.0</td>\n",
       "      <td>99.0</td>\n",
       "      <td>123.0</td>\n",
       "      <td>147.0</td>\n",
       "      <td>NaN</td>\n",
       "      <td>NaN</td>\n",
       "      <td>3.0</td>\n",
       "      <td>15.0</td>\n",
       "      <td>27.0</td>\n",
       "      <td>39.0</td>\n",
       "      <td>51.0</td>\n",
       "      <td>76.0</td>\n",
       "      <td>223.0</td>\n",
       "    </tr>\n",
       "    <tr>\n",
       "      <th>4</th>\n",
       "      <td>12208</td>\n",
       "      <td>14.0</td>\n",
       "      <td>67.0</td>\n",
       "      <td>133.0</td>\n",
       "      <td>211.0</td>\n",
       "      <td>258.0</td>\n",
       "      <td>296.0</td>\n",
       "      <td>335.0</td>\n",
       "      <td>359.0</td>\n",
       "      <td>14.0</td>\n",
       "      <td>67.0</td>\n",
       "      <td>133.0</td>\n",
       "      <td>214.0</td>\n",
       "      <td>273.0</td>\n",
       "      <td>328.0</td>\n",
       "      <td>391.0</td>\n",
       "      <td>438.0</td>\n",
       "      <td>797.0</td>\n",
       "    </tr>\n",
       "    <tr>\n",
       "      <th>...</th>\n",
       "      <td>...</td>\n",
       "      <td>...</td>\n",
       "      <td>...</td>\n",
       "      <td>...</td>\n",
       "      <td>...</td>\n",
       "      <td>...</td>\n",
       "      <td>...</td>\n",
       "      <td>...</td>\n",
       "      <td>...</td>\n",
       "      <td>...</td>\n",
       "      <td>...</td>\n",
       "      <td>...</td>\n",
       "      <td>...</td>\n",
       "      <td>...</td>\n",
       "      <td>...</td>\n",
       "      <td>...</td>\n",
       "      <td>...</td>\n",
       "      <td>...</td>\n",
       "    </tr>\n",
       "    <tr>\n",
       "      <th>301</th>\n",
       "      <td>1700</td>\n",
       "      <td>NaN</td>\n",
       "      <td>NaN</td>\n",
       "      <td>NaN</td>\n",
       "      <td>NaN</td>\n",
       "      <td>NaN</td>\n",
       "      <td>NaN</td>\n",
       "      <td>NaN</td>\n",
       "      <td>NaN</td>\n",
       "      <td>NaN</td>\n",
       "      <td>NaN</td>\n",
       "      <td>NaN</td>\n",
       "      <td>NaN</td>\n",
       "      <td>NaN</td>\n",
       "      <td>NaN</td>\n",
       "      <td>NaN</td>\n",
       "      <td>7.0</td>\n",
       "      <td>NaN</td>\n",
       "    </tr>\n",
       "    <tr>\n",
       "      <th>302</th>\n",
       "      <td>969601</td>\n",
       "      <td>NaN</td>\n",
       "      <td>NaN</td>\n",
       "      <td>NaN</td>\n",
       "      <td>NaN</td>\n",
       "      <td>NaN</td>\n",
       "      <td>NaN</td>\n",
       "      <td>NaN</td>\n",
       "      <td>NaN</td>\n",
       "      <td>NaN</td>\n",
       "      <td>NaN</td>\n",
       "      <td>NaN</td>\n",
       "      <td>NaN</td>\n",
       "      <td>NaN</td>\n",
       "      <td>NaN</td>\n",
       "      <td>NaN</td>\n",
       "      <td>6.0</td>\n",
       "      <td>NaN</td>\n",
       "    </tr>\n",
       "    <tr>\n",
       "      <th>303</th>\n",
       "      <td>965201</td>\n",
       "      <td>NaN</td>\n",
       "      <td>NaN</td>\n",
       "      <td>NaN</td>\n",
       "      <td>NaN</td>\n",
       "      <td>NaN</td>\n",
       "      <td>NaN</td>\n",
       "      <td>NaN</td>\n",
       "      <td>NaN</td>\n",
       "      <td>NaN</td>\n",
       "      <td>NaN</td>\n",
       "      <td>NaN</td>\n",
       "      <td>NaN</td>\n",
       "      <td>NaN</td>\n",
       "      <td>NaN</td>\n",
       "      <td>NaN</td>\n",
       "      <td>4.0</td>\n",
       "      <td>NaN</td>\n",
       "    </tr>\n",
       "    <tr>\n",
       "      <th>304</th>\n",
       "      <td>12904</td>\n",
       "      <td>NaN</td>\n",
       "      <td>NaN</td>\n",
       "      <td>NaN</td>\n",
       "      <td>NaN</td>\n",
       "      <td>NaN</td>\n",
       "      <td>NaN</td>\n",
       "      <td>NaN</td>\n",
       "      <td>NaN</td>\n",
       "      <td>NaN</td>\n",
       "      <td>NaN</td>\n",
       "      <td>NaN</td>\n",
       "      <td>NaN</td>\n",
       "      <td>NaN</td>\n",
       "      <td>NaN</td>\n",
       "      <td>NaN</td>\n",
       "      <td>4.0</td>\n",
       "      <td>NaN</td>\n",
       "    </tr>\n",
       "    <tr>\n",
       "      <th>305</th>\n",
       "      <td>13205</td>\n",
       "      <td>NaN</td>\n",
       "      <td>NaN</td>\n",
       "      <td>NaN</td>\n",
       "      <td>NaN</td>\n",
       "      <td>NaN</td>\n",
       "      <td>NaN</td>\n",
       "      <td>NaN</td>\n",
       "      <td>NaN</td>\n",
       "      <td>NaN</td>\n",
       "      <td>NaN</td>\n",
       "      <td>NaN</td>\n",
       "      <td>NaN</td>\n",
       "      <td>NaN</td>\n",
       "      <td>NaN</td>\n",
       "      <td>NaN</td>\n",
       "      <td>11.0</td>\n",
       "      <td>NaN</td>\n",
       "    </tr>\n",
       "  </tbody>\n",
       "</table>\n",
       "<p>306 rows × 18 columns</p>\n",
       "</div>"
      ],
      "text/plain": [
       "      tract  2014_med  2015_med  2016_med  2017_med  2018_med  2019_med  \\\n",
       "0      2000       4.0     144.0     254.0     386.0     516.0     631.0   \n",
       "1    967602       0.0      24.0      48.0      72.0      88.0     107.0   \n",
       "2     10402       0.0      12.0      27.0      40.0      56.0      80.0   \n",
       "3      1901       0.0      12.0      27.0      51.0      75.0      99.0   \n",
       "4     12208      14.0      67.0     133.0     211.0     258.0     296.0   \n",
       "..      ...       ...       ...       ...       ...       ...       ...   \n",
       "301    1700       NaN       NaN       NaN       NaN       NaN       NaN   \n",
       "302  969601       NaN       NaN       NaN       NaN       NaN       NaN   \n",
       "303  965201       NaN       NaN       NaN       NaN       NaN       NaN   \n",
       "304   12904       NaN       NaN       NaN       NaN       NaN       NaN   \n",
       "305   13205       NaN       NaN       NaN       NaN       NaN       NaN   \n",
       "\n",
       "     2020_med  2021_med  2014_rec  2015_rec  2016_rec  2017_rec  2018_rec  \\\n",
       "0       734.0     801.0       4.0      68.0     119.0     167.0     221.0   \n",
       "1       131.0     153.0       0.0      28.0      54.0      90.0     118.0   \n",
       "2       104.0     122.0       NaN       NaN       3.0      15.0      31.0   \n",
       "3       123.0     147.0       NaN       NaN       3.0      15.0      27.0   \n",
       "4       335.0     359.0      14.0      67.0     133.0     214.0     273.0   \n",
       "..        ...       ...       ...       ...       ...       ...       ...   \n",
       "301       NaN       NaN       NaN       NaN       NaN       NaN       NaN   \n",
       "302       NaN       NaN       NaN       NaN       NaN       NaN       NaN   \n",
       "303       NaN       NaN       NaN       NaN       NaN       NaN       NaN   \n",
       "304       NaN       NaN       NaN       NaN       NaN       NaN       NaN   \n",
       "305       NaN       NaN       NaN       NaN       NaN       NaN       NaN   \n",
       "\n",
       "     2019_rec  2020_rec  2021_rec   total  \n",
       "0       275.0     319.0     355.0  1156.0  \n",
       "1       149.0     185.0     225.0   378.0  \n",
       "2        55.0      79.0      97.0   219.0  \n",
       "3        39.0      51.0      76.0   223.0  \n",
       "4       328.0     391.0     438.0   797.0  \n",
       "..        ...       ...       ...     ...  \n",
       "301       NaN       NaN       7.0     NaN  \n",
       "302       NaN       NaN       6.0     NaN  \n",
       "303       NaN       NaN       4.0     NaN  \n",
       "304       NaN       NaN       4.0     NaN  \n",
       "305       NaN       NaN      11.0     NaN  \n",
       "\n",
       "[306 rows x 18 columns]"
      ]
     },
     "execution_count": 204,
     "metadata": {},
     "output_type": "execute_result"
    }
   ],
   "source": [
    "tract_records"
   ]
  },
  {
   "cell_type": "code",
   "execution_count": 205,
   "id": "3d9abe77",
   "metadata": {},
   "outputs": [],
   "source": [
    "#tract_records['2014_both'] = tract_records['2017_med']+tract_records['2017_rec']\n",
    "tract_records['total'].fillna(0, inplace=True)"
   ]
  },
  {
   "cell_type": "code",
   "execution_count": 207,
   "id": "8183838e",
   "metadata": {},
   "outputs": [
    {
     "data": {
      "text/plain": [
       "<bound method NDFrame._add_numeric_operations.<locals>.median of 0      1156.0\n",
       "1       378.0\n",
       "2       219.0\n",
       "3       223.0\n",
       "4       797.0\n",
       "        ...  \n",
       "301       0.0\n",
       "302       0.0\n",
       "303       0.0\n",
       "304       0.0\n",
       "305       0.0\n",
       "Name: total, Length: 306, dtype: float64>"
      ]
     },
     "execution_count": 207,
     "metadata": {},
     "output_type": "execute_result"
    }
   ],
   "source": [
    "tract_records['total'].median"
   ]
  },
  {
   "cell_type": "markdown",
   "id": "35e0abc6",
   "metadata": {},
   "source": [
    "We only have tract records for 306 tracts, so assuming  others do not have any dispensary."
   ]
  },
  {
   "cell_type": "markdown",
   "id": "10a0acfd",
   "metadata": {},
   "source": [
    "#### merge two datasets "
   ]
  },
  {
   "cell_type": "code",
   "execution_count": 208,
   "id": "8e5f0fc6",
   "metadata": {},
   "outputs": [
    {
     "data": {
      "text/plain": [
       "306"
      ]
     },
     "execution_count": 208,
     "metadata": {},
     "output_type": "execute_result"
    }
   ],
   "source": [
    "len(tract_records)"
   ]
  },
  {
   "cell_type": "code",
   "execution_count": 209,
   "id": "e582e615",
   "metadata": {},
   "outputs": [
    {
     "data": {
      "text/plain": [
       "1447"
      ]
     },
     "execution_count": 209,
     "metadata": {},
     "output_type": "execute_result"
    }
   ],
   "source": [
    "len(data)"
   ]
  },
  {
   "cell_type": "code",
   "execution_count": 210,
   "id": "e3b9dc04",
   "metadata": {},
   "outputs": [],
   "source": [
    "data['tract_str'] = data['tract'].astype(str)"
   ]
  },
  {
   "cell_type": "code",
   "execution_count": 211,
   "id": "e45f72d6",
   "metadata": {},
   "outputs": [],
   "source": [
    "def last_6_digit(x):\n",
    "    return x[-6:]"
   ]
  },
  {
   "cell_type": "code",
   "execution_count": 212,
   "id": "a8f89819",
   "metadata": {},
   "outputs": [],
   "source": [
    "data['tract_str_last6'] = data['tract_str'].apply(last_6_digit)"
   ]
  },
  {
   "cell_type": "code",
   "execution_count": 213,
   "id": "8f2c74d3",
   "metadata": {},
   "outputs": [],
   "source": [
    "data['tract'] = data['tract_str_last6'].astype(int)"
   ]
  },
  {
   "cell_type": "code",
   "execution_count": 214,
   "id": "fd9eb7b6",
   "metadata": {},
   "outputs": [
    {
     "data": {
      "text/plain": [
       "0         7801\n",
       "1         7802\n",
       "2         7900\n",
       "3         8000\n",
       "4         8100\n",
       "         ...  \n",
       "1442      2300\n",
       "1443      2501\n",
       "1444      2502\n",
       "1445    963100\n",
       "1446    963200\n",
       "Name: tract, Length: 1447, dtype: int32"
      ]
     },
     "execution_count": 214,
     "metadata": {},
     "output_type": "execute_result"
    }
   ],
   "source": [
    "data['tract']"
   ]
  },
  {
   "cell_type": "code",
   "execution_count": 215,
   "id": "2e8480b2",
   "metadata": {},
   "outputs": [],
   "source": [
    "data_prepared = pd.merge(data, tract_records, on = \"tract\", how=\"left\")"
   ]
  },
  {
   "cell_type": "code",
   "execution_count": 216,
   "id": "cd7f84cc",
   "metadata": {},
   "outputs": [],
   "source": [
    "data_prepared['total'].fillna(0, inplace=True)"
   ]
  },
  {
   "cell_type": "code",
   "execution_count": 217,
   "id": "0a646103",
   "metadata": {},
   "outputs": [
    {
     "data": {
      "text/plain": [
       "<bound method NDFrame._add_numeric_operations.<locals>.median of 0         0.0\n",
       "1         0.0\n",
       "2         0.0\n",
       "3         0.0\n",
       "4         0.0\n",
       "        ...  \n",
       "1442    558.0\n",
       "1443      0.0\n",
       "1444      0.0\n",
       "1445      0.0\n",
       "1446      0.0\n",
       "Name: total, Length: 1447, dtype: float64>"
      ]
     },
     "execution_count": 217,
     "metadata": {},
     "output_type": "execute_result"
    }
   ],
   "source": [
    "data_prepared['total'].median"
   ]
  },
  {
   "cell_type": "markdown",
   "id": "c916d90f",
   "metadata": {},
   "source": [
    "Among all 1249 tracts, the median of cummulative months is 0."
   ]
  },
  {
   "cell_type": "code",
   "execution_count": 218,
   "id": "b3dfa25f",
   "metadata": {},
   "outputs": [
    {
     "data": {
      "text/plain": [
       "Index(['population', 'income', 'house_value', 'rent', 'tract', 'unemployment',\n",
       "       'poverty', 'tract_str', 'tract_str_last6', '2014_med', '2015_med',\n",
       "       '2016_med', '2017_med', '2018_med', '2019_med', '2020_med', '2021_med',\n",
       "       '2014_rec', '2015_rec', '2016_rec', '2017_rec', '2018_rec', '2019_rec',\n",
       "       '2020_rec', '2021_rec', 'total'],\n",
       "      dtype='object')"
      ]
     },
     "execution_count": 218,
     "metadata": {},
     "output_type": "execute_result"
    }
   ],
   "source": [
    "data_prepared.columns "
   ]
  },
  {
   "cell_type": "code",
   "execution_count": 219,
   "id": "c8563ee3",
   "metadata": {},
   "outputs": [],
   "source": [
    "data_prepared.to_csv('tract_info_complete_version.csv')"
   ]
  },
  {
   "cell_type": "code",
   "execution_count": 220,
   "id": "4399b56b",
   "metadata": {},
   "outputs": [],
   "source": [
    "data_prepared = data_prepared[['population', 'income', 'house_value', 'rent', 'unemployment',\n",
    "       'poverty', 'total']]"
   ]
  },
  {
   "cell_type": "code",
   "execution_count": 221,
   "id": "8741b759",
   "metadata": {},
   "outputs": [
    {
     "data": {
      "text/plain": [
       "Index(['population', 'income', 'house_value', 'rent', 'unemployment',\n",
       "       'poverty', 'total'],\n",
       "      dtype='object')"
      ]
     },
     "execution_count": 221,
     "metadata": {},
     "output_type": "execute_result"
    }
   ],
   "source": [
    "data_prepared.columns"
   ]
  },
  {
   "cell_type": "markdown",
   "id": "96bd0e96",
   "metadata": {},
   "source": [
    "#### Create test and control groups and let dispensary_status to be a binary treatment indicator."
   ]
  },
  {
   "cell_type": "code",
   "execution_count": 234,
   "id": "804339be",
   "metadata": {},
   "outputs": [],
   "source": [
    "test = data_prepared[data_prepared['total'] <= 0 ]\n",
    "control = data_prepared[data_prepared['total'] > 0 ]\n",
    "test['dispensary_status'] = 0\n",
    "control['dispensary_status'] = 1\n",
    "test = test.drop(['total'], axis=1)\n",
    "control = control.drop(['total'], axis=1)"
   ]
  },
  {
   "cell_type": "code",
   "execution_count": 235,
   "id": "55a468e7",
   "metadata": {},
   "outputs": [
    {
     "data": {
      "text/html": [
       "<div>\n",
       "<style scoped>\n",
       "    .dataframe tbody tr th:only-of-type {\n",
       "        vertical-align: middle;\n",
       "    }\n",
       "\n",
       "    .dataframe tbody tr th {\n",
       "        vertical-align: top;\n",
       "    }\n",
       "\n",
       "    .dataframe thead th {\n",
       "        text-align: right;\n",
       "    }\n",
       "</style>\n",
       "<table border=\"1\" class=\"dataframe\">\n",
       "  <thead>\n",
       "    <tr style=\"text-align: right;\">\n",
       "      <th></th>\n",
       "      <th>population</th>\n",
       "      <th>income</th>\n",
       "      <th>house_value</th>\n",
       "      <th>rent</th>\n",
       "      <th>unemployment</th>\n",
       "      <th>poverty</th>\n",
       "      <th>dispensary_status</th>\n",
       "    </tr>\n",
       "  </thead>\n",
       "  <tbody>\n",
       "    <tr>\n",
       "      <th>257</th>\n",
       "      <td>4940</td>\n",
       "      <td>50875</td>\n",
       "      <td>417400</td>\n",
       "      <td>1991</td>\n",
       "      <td>0.02</td>\n",
       "      <td>0.02</td>\n",
       "      <td>0</td>\n",
       "    </tr>\n",
       "  </tbody>\n",
       "</table>\n",
       "</div>"
      ],
      "text/plain": [
       "     population  income  house_value  rent  unemployment  poverty  \\\n",
       "257        4940   50875       417400  1991          0.02     0.02   \n",
       "\n",
       "     dispensary_status  \n",
       "257                  0  "
      ]
     },
     "execution_count": 235,
     "metadata": {},
     "output_type": "execute_result"
    }
   ],
   "source": [
    "test.sample()"
   ]
  },
  {
   "cell_type": "code",
   "execution_count": 236,
   "id": "fc4dbccf",
   "metadata": {},
   "outputs": [
    {
     "data": {
      "text/html": [
       "<div>\n",
       "<style scoped>\n",
       "    .dataframe tbody tr th:only-of-type {\n",
       "        vertical-align: middle;\n",
       "    }\n",
       "\n",
       "    .dataframe tbody tr th {\n",
       "        vertical-align: top;\n",
       "    }\n",
       "\n",
       "    .dataframe thead th {\n",
       "        text-align: right;\n",
       "    }\n",
       "</style>\n",
       "<table border=\"1\" class=\"dataframe\">\n",
       "  <thead>\n",
       "    <tr style=\"text-align: right;\">\n",
       "      <th></th>\n",
       "      <th>population</th>\n",
       "      <th>income</th>\n",
       "      <th>house_value</th>\n",
       "      <th>rent</th>\n",
       "      <th>unemployment</th>\n",
       "      <th>poverty</th>\n",
       "      <th>dispensary_status</th>\n",
       "    </tr>\n",
       "  </thead>\n",
       "  <tbody>\n",
       "    <tr>\n",
       "      <th>1063</th>\n",
       "      <td>2721</td>\n",
       "      <td>30640</td>\n",
       "      <td>457800</td>\n",
       "      <td>1317</td>\n",
       "      <td>0.04</td>\n",
       "      <td>0.21</td>\n",
       "      <td>1</td>\n",
       "    </tr>\n",
       "  </tbody>\n",
       "</table>\n",
       "</div>"
      ],
      "text/plain": [
       "      population  income  house_value  rent  unemployment  poverty  \\\n",
       "1063        2721   30640       457800  1317          0.04     0.21   \n",
       "\n",
       "      dispensary_status  \n",
       "1063                  1  "
      ]
     },
     "execution_count": 236,
     "metadata": {},
     "output_type": "execute_result"
    }
   ],
   "source": [
    "control.sample()"
   ]
  },
  {
   "cell_type": "markdown",
   "id": "7816320e",
   "metadata": {},
   "source": [
    "## Create Matcher and do the matching"
   ]
  },
  {
   "cell_type": "code",
   "execution_count": 237,
   "id": "62ba46a8",
   "metadata": {},
   "outputs": [
    {
     "name": "stdout",
     "output_type": "stream",
     "text": [
      "Formula:\n",
      "dispensary_status ~ population+income+house_value+rent+unemployment+poverty\n",
      "n majority: 1070\n",
      "n minority: 363\n"
     ]
    }
   ],
   "source": [
    "m = Matcher(test, control, yvar=\"dispensary_status\", exclude=[])"
   ]
  },
  {
   "cell_type": "markdown",
   "id": "30aa1e92",
   "metadata": {},
   "source": [
    "data imbalance noticed"
   ]
  },
  {
   "cell_type": "code",
   "execution_count": 251,
   "id": "37d6c06f",
   "metadata": {},
   "outputs": [
    {
     "name": "stdout",
     "output_type": "stream",
     "text": [
      "Fitting Models on Balanced Samples: 200\\200\n",
      "Average Accuracy: 63.84%\n"
     ]
    }
   ],
   "source": [
    "np.random.seed(42)\n",
    "m.fit_scores(balance=True, nmodels=200)"
   ]
  },
  {
   "cell_type": "code",
   "execution_count": 239,
   "id": "3064630a",
   "metadata": {},
   "outputs": [],
   "source": [
    "m.predict_scores()"
   ]
  },
  {
   "cell_type": "code",
   "execution_count": 240,
   "id": "471dba37",
   "metadata": {},
   "outputs": [
    {
     "data": {
      "image/png": "[encoded data removed]",
      "text/plain": [
       "<Figure size 720x360 with 1 Axes>"
      ]
     },
     "metadata": {
      "needs_background": "light"
     },
     "output_type": "display_data"
    }
   ],
   "source": [
    "m.plot_scores()"
   ]
  },
  {
   "cell_type": "code",
   "execution_count": 247,
   "id": "1c1eb261",
   "metadata": {},
   "outputs": [],
   "source": [
    "matched_data = m.match(method=\"min\", nmatches=1, threshold=0.0001)"
   ]
  },
  {
   "cell_type": "code",
   "execution_count": 248,
   "id": "5e171eb3",
   "metadata": {},
   "outputs": [],
   "source": [
    "matched_pairs_df = m.matched_data.sort_values(\"match_id\")"
   ]
  },
  {
   "cell_type": "code",
   "execution_count": 249,
   "id": "db991c01",
   "metadata": {},
   "outputs": [
    {
     "data": {
      "text/html": [
       "<div>\n",
       "<style scoped>\n",
       "    .dataframe tbody tr th:only-of-type {\n",
       "        vertical-align: middle;\n",
       "    }\n",
       "\n",
       "    .dataframe tbody tr th {\n",
       "        vertical-align: top;\n",
       "    }\n",
       "\n",
       "    .dataframe thead th {\n",
       "        text-align: right;\n",
       "    }\n",
       "</style>\n",
       "<table border=\"1\" class=\"dataframe\">\n",
       "  <thead>\n",
       "    <tr style=\"text-align: right;\">\n",
       "      <th></th>\n",
       "      <th>population</th>\n",
       "      <th>income</th>\n",
       "      <th>house_value</th>\n",
       "      <th>rent</th>\n",
       "      <th>unemployment</th>\n",
       "      <th>poverty</th>\n",
       "      <th>dispensary_status</th>\n",
       "      <th>scores</th>\n",
       "      <th>match_id</th>\n",
       "      <th>record_id</th>\n",
       "    </tr>\n",
       "  </thead>\n",
       "  <tbody>\n",
       "    <tr>\n",
       "      <th>1079</th>\n",
       "      <td>6249</td>\n",
       "      <td>33160</td>\n",
       "      <td>303700</td>\n",
       "      <td>1332</td>\n",
       "      <td>0.04</td>\n",
       "      <td>0.09</td>\n",
       "      <td>1</td>\n",
       "      <td>0.358783</td>\n",
       "      <td>0</td>\n",
       "      <td>1079</td>\n",
       "    </tr>\n",
       "    <tr>\n",
       "      <th>316</th>\n",
       "      <td>3369</td>\n",
       "      <td>63966</td>\n",
       "      <td>717800</td>\n",
       "      <td>3501</td>\n",
       "      <td>0.04</td>\n",
       "      <td>0.01</td>\n",
       "      <td>0</td>\n",
       "      <td>0.358803</td>\n",
       "      <td>0</td>\n",
       "      <td>316</td>\n",
       "    </tr>\n",
       "    <tr>\n",
       "      <th>1080</th>\n",
       "      <td>5536</td>\n",
       "      <td>34940</td>\n",
       "      <td>345600</td>\n",
       "      <td>1815</td>\n",
       "      <td>0.02</td>\n",
       "      <td>0.05</td>\n",
       "      <td>1</td>\n",
       "      <td>0.325381</td>\n",
       "      <td>1</td>\n",
       "      <td>1080</td>\n",
       "    </tr>\n",
       "    <tr>\n",
       "      <th>564</th>\n",
       "      <td>6136</td>\n",
       "      <td>43192</td>\n",
       "      <td>365500</td>\n",
       "      <td>1486</td>\n",
       "      <td>0.07</td>\n",
       "      <td>0.06</td>\n",
       "      <td>0</td>\n",
       "      <td>0.325242</td>\n",
       "      <td>1</td>\n",
       "      <td>564</td>\n",
       "    </tr>\n",
       "    <tr>\n",
       "      <th>1081</th>\n",
       "      <td>8142</td>\n",
       "      <td>41688</td>\n",
       "      <td>366700</td>\n",
       "      <td>1836</td>\n",
       "      <td>0.04</td>\n",
       "      <td>0.05</td>\n",
       "      <td>1</td>\n",
       "      <td>0.221196</td>\n",
       "      <td>2</td>\n",
       "      <td>1081</td>\n",
       "    </tr>\n",
       "    <tr>\n",
       "      <th>...</th>\n",
       "      <td>...</td>\n",
       "      <td>...</td>\n",
       "      <td>...</td>\n",
       "      <td>...</td>\n",
       "      <td>...</td>\n",
       "      <td>...</td>\n",
       "      <td>...</td>\n",
       "      <td>...</td>\n",
       "      <td>...</td>\n",
       "      <td>...</td>\n",
       "    </tr>\n",
       "    <tr>\n",
       "      <th>225</th>\n",
       "      <td>3631</td>\n",
       "      <td>54338</td>\n",
       "      <td>385300</td>\n",
       "      <td>2243</td>\n",
       "      <td>0.04</td>\n",
       "      <td>0.04</td>\n",
       "      <td>0</td>\n",
       "      <td>0.397757</td>\n",
       "      <td>360</td>\n",
       "      <td>225</td>\n",
       "    </tr>\n",
       "    <tr>\n",
       "      <th>1445</th>\n",
       "      <td>11173</td>\n",
       "      <td>39632</td>\n",
       "      <td>343000</td>\n",
       "      <td>1381</td>\n",
       "      <td>0.04</td>\n",
       "      <td>0.02</td>\n",
       "      <td>1</td>\n",
       "      <td>0.111720</td>\n",
       "      <td>361</td>\n",
       "      <td>1445</td>\n",
       "    </tr>\n",
       "    <tr>\n",
       "      <th>524</th>\n",
       "      <td>8209</td>\n",
       "      <td>44550</td>\n",
       "      <td>593600</td>\n",
       "      <td>-666666666</td>\n",
       "      <td>0.02</td>\n",
       "      <td>0.02</td>\n",
       "      <td>0</td>\n",
       "      <td>0.110785</td>\n",
       "      <td>361</td>\n",
       "      <td>524</td>\n",
       "    </tr>\n",
       "    <tr>\n",
       "      <th>1446</th>\n",
       "      <td>5581</td>\n",
       "      <td>40310</td>\n",
       "      <td>371700</td>\n",
       "      <td>1252</td>\n",
       "      <td>0.02</td>\n",
       "      <td>0.08</td>\n",
       "      <td>1</td>\n",
       "      <td>0.363943</td>\n",
       "      <td>362</td>\n",
       "      <td>1446</td>\n",
       "    </tr>\n",
       "    <tr>\n",
       "      <th>411</th>\n",
       "      <td>3500</td>\n",
       "      <td>44052</td>\n",
       "      <td>404300</td>\n",
       "      <td>1945</td>\n",
       "      <td>0.00</td>\n",
       "      <td>0.02</td>\n",
       "      <td>0</td>\n",
       "      <td>0.364638</td>\n",
       "      <td>362</td>\n",
       "      <td>411</td>\n",
       "    </tr>\n",
       "  </tbody>\n",
       "</table>\n",
       "<p>726 rows × 10 columns</p>\n",
       "</div>"
      ],
      "text/plain": [
       "      population  income  house_value       rent  unemployment  poverty  \\\n",
       "1079        6249   33160       303700       1332          0.04     0.09   \n",
       "316         3369   63966       717800       3501          0.04     0.01   \n",
       "1080        5536   34940       345600       1815          0.02     0.05   \n",
       "564         6136   43192       365500       1486          0.07     0.06   \n",
       "1081        8142   41688       366700       1836          0.04     0.05   \n",
       "...          ...     ...          ...        ...           ...      ...   \n",
       "225         3631   54338       385300       2243          0.04     0.04   \n",
       "1445       11173   39632       343000       1381          0.04     0.02   \n",
       "524         8209   44550       593600 -666666666          0.02     0.02   \n",
       "1446        5581   40310       371700       1252          0.02     0.08   \n",
       "411         3500   44052       404300       1945          0.00     0.02   \n",
       "\n",
       "      dispensary_status    scores  match_id  record_id  \n",
       "1079                  1  0.358783         0       1079  \n",
       "316                   0  0.358803         0        316  \n",
       "1080                  1  0.325381         1       1080  \n",
       "564                   0  0.325242         1        564  \n",
       "1081                  1  0.221196         2       1081  \n",
       "...                 ...       ...       ...        ...  \n",
       "225                   0  0.397757       360        225  \n",
       "1445                  1  0.111720       361       1445  \n",
       "524                   0  0.110785       361        524  \n",
       "1446                  1  0.363943       362       1446  \n",
       "411                   0  0.364638       362        411  \n",
       "\n",
       "[726 rows x 10 columns]"
      ]
     },
     "execution_count": 249,
     "metadata": {},
     "output_type": "execute_result"
    }
   ],
   "source": [
    "matched_pairs_df"
   ]
  },
  {
   "cell_type": "code",
   "execution_count": 252,
   "id": "f4110f26",
   "metadata": {},
   "outputs": [],
   "source": [
    "matched_pairs_df.to_csv('matched_pairs_2021.csv')"
   ]
  },
  {
   "cell_type": "code",
   "execution_count": null,
   "id": "d056a751",
   "metadata": {},
   "outputs": [],
   "source": []
  },
  {
   "cell_type": "code",
   "execution_count": null,
   "id": "4294317f",
   "metadata": {},
   "outputs": [],
   "source": []
  }
 ],
 "metadata": {
  "kernelspec": {
   "display_name": "Python 3 (ipykernel)",
   "language": "python",
   "name": "python3"
  },
  "language_info": {
   "codemirror_mode": {
    "name": "ipython",
    "version": 3
   },
   "file_extension": ".py",
   "mimetype": "text/x-python",
   "name": "python",
   "nbconvert_exporter": "python",
   "pygments_lexer": "ipython3",
   "version": "3.9.7"
  }
 },
 "nbformat": 4,
 "nbformat_minor": 5
}
