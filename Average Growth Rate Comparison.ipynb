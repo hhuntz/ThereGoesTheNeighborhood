{
 "cells": [
  {
   "cell_type": "code",
   "execution_count": 1,
   "id": "fd765456",
   "metadata": {},
   "outputs": [],
   "source": [
    "import warnings\n",
    "warnings.filterwarnings('ignore')\n",
    "import pandas as pd\n",
    "import numpy as np\n",
    "import seaborn as sns\n",
    "import matplotlib.pyplot as plt"
   ]
  },
  {
   "cell_type": "markdown",
   "id": "e3976fa3",
   "metadata": {},
   "source": [
    "## Load existing dataset"
   ]
  },
  {
   "cell_type": "code",
   "execution_count": 2,
   "id": "e26a074a",
   "metadata": {},
   "outputs": [],
   "source": [
    "# each tract's census info, along with all years' cum store months\n",
    "df_final = pd.read_csv('data_for_DID.csv')\n",
    "\n",
    "# matching info\n",
    "matched_df_cleaned = pd.read_csv('matched_tracts_cleaned.csv')\n",
    "\n",
    "# tract info with dispensary_status and match_id\n",
    "dispensaries_updated = pd.read_csv('tract_status.csv')"
   ]
  },
  {
   "cell_type": "markdown",
   "id": "5800e840",
   "metadata": {},
   "source": [
    "## Get the growth rate"
   ]
  },
  {
   "cell_type": "code",
   "execution_count": 3,
   "id": "3cca5a69",
   "metadata": {},
   "outputs": [
    {
     "data": {
      "text/plain": [
       "Index(['Unnamed: 0', 'tract', 'year', 'rec', 'med', 'dispensary_status',\n",
       "       'match_id', 'population', 'income', 'house_value', 'rent',\n",
       "       'unemployment', 'poverty'],\n",
       "      dtype='object')"
      ]
     },
     "execution_count": 3,
     "metadata": {},
     "output_type": "execute_result"
    }
   ],
   "source": [
    "df_final.columns"
   ]
  },
  {
   "cell_type": "code",
   "execution_count": 4,
   "id": "8154182e",
   "metadata": {},
   "outputs": [],
   "source": [
    "df_to_use = df_final[['tract', 'year', 'rec', 'med', 'population', 'income', 'house_value', 'rent', 'unemployment', 'poverty']]"
   ]
  },
  {
   "cell_type": "markdown",
   "id": "6dff0ff8",
   "metadata": {},
   "source": [
    "#### Divide the control and intervention groups"
   ]
  },
  {
   "cell_type": "code",
   "execution_count": 5,
   "id": "7436a3b6",
   "metadata": {},
   "outputs": [],
   "source": [
    "group_0 = dispensaries_updated[dispensaries_updated['dispensary_status']==0]\n",
    "group_1 = dispensaries_updated[dispensaries_updated['dispensary_status']==1]\n",
    "\n",
    "group_0_tracts = list(group_0.tract)\n",
    "group_1_tracts = list(group_1.tract)\n",
    "\n",
    "df_to_use_0 = df_to_use.loc[df_to_use ['tract'].isin(group_0_tracts)]\n",
    "df_to_use_1 = df_to_use.loc[df_to_use ['tract'].isin(group_1_tracts)]\n"
   ]
  },
  {
   "cell_type": "markdown",
   "id": "8b6c30ae",
   "metadata": {},
   "source": [
    "#### Functions for getting the growth rate"
   ]
  },
  {
   "cell_type": "code",
   "execution_count": 6,
   "id": "ce6d9bbd",
   "metadata": {},
   "outputs": [],
   "source": [
    "\n",
    "\"\"\"\n",
    "    Given outcome variable, tract, and ralative dataframe, return growth rate dataframe\n",
    "\"\"\"\n",
    "def growth_rate_per_year (outcome, tract, df):\n",
    "    \n",
    "    curr_df = df[df['tract']==tract]\n",
    "    outcome_change = curr_df[outcome].diff().dropna().values[:7]\n",
    "    outcome_base = curr_df[outcome][:7].values\n",
    "    \n",
    "    data = {'Year': [1, 2, 3, 4, 5, 6, 7],\n",
    "        'change_next_year': outcome_change,\n",
    "         'base_curr_year': outcome_base}\n",
    "    #print(data)\n",
    "    new_df = pd.DataFrame(data)\n",
    "    \n",
    "    new_df['growth_rate'] = new_df['change_next_year']/new_df['base_curr_year']\n",
    "    new_df['tract'] = tract\n",
    "    \n",
    "    return new_df\n",
    "\n",
    "\n",
    "\"\"\"\n",
    "    Given outcome variable, return growth rate dataframe, containing all tracts\n",
    "\"\"\"\n",
    "\n",
    "def get_growth_rate_df(outcome):\n",
    "    res_df = []\n",
    "\n",
    "    for each_group in [group_0_tracts, group_1_tracts]:\n",
    "\n",
    "        df = df_to_use.loc[df_to_use ['tract'].isin(each_group)]\n",
    "        growth_rate_df = []\n",
    "        for each_tract in each_group:\n",
    "            growth_rate_df.append(growth_rate_per_year (outcome, each_tract, df))\n",
    "\n",
    "        res_df.append(pd.concat(growth_rate_df))\n",
    "    \n",
    "    return res_df\n",
    "\n",
    "\"\"\"\n",
    "    Given growth rate dataframes of both groups, return a dictionary containing all growth rates info\n",
    "\"\"\"\n",
    "def get_avg_growth_dict(growth_rate_0, growth_rate_1):\n",
    "    \n",
    "    res_dict = {}\n",
    "    mean_group_0 = growth_rate_0.groupby('tract')['growth_rate'].agg(['mean'])\n",
    "    mean_group_1 = growth_rate_1.groupby('tract')['growth_rate'].agg(['mean'])\n",
    "    mean_group_1.reset_index(level=0, inplace=True)\n",
    "    mean_group_0.reset_index(level=0, inplace=True)\n",
    "    \n",
    "    for each_tract in list(mean_group_0.tract):\n",
    "        res_dict[each_tract] = mean_group_0[mean_group_0['tract']==each_tract]['mean'].values[0]\n",
    "    \n",
    "    for each_tract in list(mean_group_1.tract):\n",
    "        res_dict[each_tract] = mean_group_1[mean_group_1['tract']==each_tract]['mean'].values[0]\n",
    "        \n",
    "    return res_dict"
   ]
  },
  {
   "cell_type": "markdown",
   "id": "f6a1a8c0",
   "metadata": {},
   "source": [
    "#### Get the growth rate dictionary for each outcome variable"
   ]
  },
  {
   "cell_type": "code",
   "execution_count": 7,
   "id": "169a38e3",
   "metadata": {},
   "outputs": [],
   "source": [
    "# income\n",
    "growth_rate_income = get_growth_rate_df('income')\n",
    "growth_rate_income_0 = growth_rate_income[0]\n",
    "growth_rate_income_1 = growth_rate_income[1]\n",
    "income_avg_growth_dict = get_avg_growth_dict(growth_rate_income_0, growth_rate_income_1)\n",
    "\n",
    "# population\n",
    "growth_rate_population = get_growth_rate_df('population')\n",
    "growth_rate_population_0 = growth_rate_population[0]\n",
    "growth_rate_population_1 = growth_rate_population[1]\n",
    "population_avg_growth_dict = get_avg_growth_dict(growth_rate_population_0, growth_rate_population_1)\n",
    "\n",
    "# house value\n",
    "growth_rate_housevalue = get_growth_rate_df('house_value')\n",
    "growth_rate_housevalue_0 = growth_rate_housevalue[0]\n",
    "growth_rate_housevalue_1 = growth_rate_housevalue[1]\n",
    "housevalue_avg_growth_dict = get_avg_growth_dict(growth_rate_housevalue_0, growth_rate_housevalue_1)\n",
    "\n",
    "# rent\n",
    "growth_rate_rent = get_growth_rate_df('rent')\n",
    "growth_rate_rent_0 = growth_rate_rent[0]\n",
    "growth_rate_rent_1 = growth_rate_rent[1]\n",
    "rent_avg_growth_dict = get_avg_growth_dict(growth_rate_rent_0, growth_rate_rent_1)\n",
    "\n",
    "# unemployment\n",
    "growth_rate_unemployment = get_growth_rate_df('unemployment')\n",
    "growth_rate_unemployment_0 = growth_rate_unemployment[0]\n",
    "growth_rate_unemployment_1 = growth_rate_unemployment[1]\n",
    "unemployment_avg_growth_dict = get_avg_growth_dict(growth_rate_unemployment_0, growth_rate_unemployment_1)\n",
    "\n",
    "# poverty\n",
    "growth_rate_poverty = get_growth_rate_df('poverty')\n",
    "growth_rate_poverty_0 = growth_rate_poverty[0]\n",
    "growth_rate_poverty_1 = growth_rate_poverty[1]\n",
    "poverty_avg_growth_dict = get_avg_growth_dict(growth_rate_poverty_0, growth_rate_poverty_1)"
   ]
  },
  {
   "cell_type": "markdown",
   "id": "c5571a80",
   "metadata": {},
   "source": [
    "#### Create another dictionary for tracking growth rates of all outcome variables"
   ]
  },
  {
   "cell_type": "code",
   "execution_count": 8,
   "id": "3394d8f4",
   "metadata": {},
   "outputs": [],
   "source": [
    "avg_growth_dict_all_dim = {}\n",
    "avg_growth_dict_all_dim['income'] = income_avg_growth_dict\n",
    "avg_growth_dict_all_dim['population'] = population_avg_growth_dict\n",
    "avg_growth_dict_all_dim['housevalue'] = housevalue_avg_growth_dict\n",
    "avg_growth_dict_all_dim['rent'] = rent_avg_growth_dict\n",
    "avg_growth_dict_all_dim['unemployment'] = unemployment_avg_growth_dict\n",
    "avg_growth_dict_all_dim['poverty'] = poverty_avg_growth_dict"
   ]
  },
  {
   "cell_type": "markdown",
   "id": "46959f72",
   "metadata": {},
   "source": [
    "#### Get the differences between control and intervention groups "
   ]
  },
  {
   "cell_type": "code",
   "execution_count": 9,
   "id": "6e6f355f",
   "metadata": {},
   "outputs": [],
   "source": [
    "def get_tract_mean(dim, dict_all_dim, tract):\n",
    "    \n",
    "    return dict_all_dim[dim][tract]\n"
   ]
  },
  {
   "cell_type": "code",
   "execution_count": 12,
   "id": "7a906dfe",
   "metadata": {},
   "outputs": [],
   "source": [
    "def get_min_max(vals):\n",
    "    \n",
    "    Q1 = vals.quantile(0.25)\n",
    "    Q3 = vals.quantile(0.75)\n",
    "    IQR = Q3 - Q1\n",
    "    Lower = Q1 - (1.5 * IQR)\n",
    "    Upper = Q3 + (1.5 * IQR)\n",
    "    \n",
    "    return Lower, Upper"
   ]
  },
  {
   "cell_type": "code",
   "execution_count": 39,
   "id": "2c1a2643",
   "metadata": {},
   "outputs": [],
   "source": [
    "df_all = []\n",
    "for each_dim in ['income', 'population', 'housevalue', 'rent', 'unemployment', 'poverty']:\n",
    "\n",
    "    # get mean and difference\n",
    "    mean_cmp_df = matched_df_cleaned[matched_df_cleaned['dispensary_status']==0].reset_index(drop=True)\n",
    "    mean_cmp_df['tract0_mean'] = mean_cmp_df['tract'].apply(lambda x: get_tract_mean(each_dim, avg_growth_dict_all_dim, x))\n",
    "    mean_cmp_df['tract1_mean'] = mean_cmp_df['matched_tract'].apply(lambda x: get_tract_mean(each_dim, avg_growth_dict_all_dim, x))\n",
    "    mean_cmp_df['difference'] = mean_cmp_df['tract1_mean'] - mean_cmp_df['tract0_mean']\n",
    "    \n",
    "    \"\"\"\n",
    "    print('Mean', mean_cmp_df['difference'].mean())\n",
    "    print('Min', mean_cmp_df['difference'].min())\n",
    "    print('Max', mean_cmp_df['difference'].max())\n",
    "    \"\"\"\n",
    "    \n",
    "    df_all.append(mean_cmp_df)\n",
    "    "
   ]
  },
  {
   "cell_type": "code",
   "execution_count": 69,
   "id": "520cae7d",
   "metadata": {},
   "outputs": [],
   "source": [
    "def get_text_pos(axs):\n",
    "    ymin, ymax = axs.get_ylim()\n",
    "    xmin, xmax = axs.get_xlim()\n",
    "    text_pos_y = 8/10 * ymax\n",
    "    text_pos_x = 1/50 * xmax\n",
    "    \n",
    "    return text_pos_y, text_pos_x"
   ]
  },
  {
   "cell_type": "markdown",
   "id": "184e9619",
   "metadata": {},
   "source": [
    "#### Plot the distribution of all six outcomes in a single graph"
   ]
  },
  {
   "cell_type": "code",
   "execution_count": 74,
   "id": "6750ebe8",
   "metadata": {
    "scrolled": false
   },
   "outputs": [
    {
     "data": {
      "image/png": "[encoded data removed]",
      "text/plain": [
       "<Figure size 1008x576 with 6 Axes>"
      ]
     },
     "metadata": {
      "needs_background": "light"
     },
     "output_type": "display_data"
    }
   ],
   "source": [
    "#figure(figsize=(8, 6), dpi=80)\n",
    "outcomes = ['income', 'population', 'house_value', 'rent', 'unemployment', 'poverty']\n",
    "fig, axs = plt.subplots(nrows=2, ncols=3)\n",
    "fig.set_size_inches(14, 8, forward=True)\n",
    "\n",
    "#add title\n",
    "fig.suptitle('Growth Rate Comparison Between Control and Intervention Groups', size=20)\n",
    "fig.supxlabel('Growth Rate Differences', size=18)\n",
    "fig.supylabel('Counts', size=18)\n",
    "\n",
    "#add data to plots\n",
    "axs[0, 0].hist(df_all[0]['difference'], color='c', edgecolor='black', bins=30)\n",
    "axs[0, 0].axvline(df_all[0]['difference'].median(), color='k', linestyle='dashed', linewidth=1)\n",
    "axs[0, 0].set_title(outcomes[0], fontsize=13, loc='center')\n",
    "text_pos_y, text_pos_x = get_text_pos(axs[0, 0])\n",
    "axs[0, 0].text(df_all[0]['difference'].median()+text_pos_x, text_pos_y, 'Median', fontsize = 12,color = 'red')\n",
    "\n",
    "axs[0, 1].hist(df_all[1]['difference'], color='c', edgecolor='black', bins=30)\n",
    "axs[0, 1].axvline(df_all[1]['difference'].median(), color='k', linestyle='dashed', linewidth=1)\n",
    "axs[0, 1].set_title(outcomes[1], fontsize=13, loc='center')\n",
    "text_pos_y, text_pos_x = get_text_pos(axs[0, 1])\n",
    "axs[0, 1].text(df_all[1]['difference'].median()+text_pos_x, text_pos_y, 'Median', fontsize = 12,color = 'red')\n",
    "\n",
    "axs[0, 2].hist(df_all[2]['difference'], color='c', edgecolor='black', bins=30)\n",
    "axs[0, 2].set_title(outcomes[2], fontsize=13, loc='center')\n",
    "axs[0, 2].axvline(df_all[2]['difference'].median(), color='k', linestyle='dashed', linewidth=1)\n",
    "axs[0, 2].set_title(outcomes[2], fontsize=13, loc='center')\n",
    "text_pos_y, text_pos_x = get_text_pos(axs[0, 2])\n",
    "axs[0, 2].text(df_all[2]['difference'].median()+text_pos_x, text_pos_y, 'Median', fontsize = 12,color = 'red')\n",
    "\n",
    "axs[1, 0].hist(df_all[3]['difference'], color='c', edgecolor='black', bins=30)\n",
    "axs[1, 0].set_title(outcomes[3], fontsize=13, loc='center')\n",
    "axs[1, 0].axvline(df_all[3]['difference'].median(), color='k', linestyle='dashed', linewidth=1)\n",
    "axs[1, 0].set_title(outcomes[3], fontsize=13, loc='center')\n",
    "text_pos_y, text_pos_x = get_text_pos(axs[1, 0])\n",
    "axs[1, 0].text(df_all[3]['difference'].median()+text_pos_x, text_pos_y, 'Median', fontsize = 12,color = 'red')\n",
    "\n",
    "axs[1, 1].hist(df_all[4]['difference'], color='c', edgecolor='black', bins=30)\n",
    "axs[1, 1].set_title(outcomes[4], fontsize=13, loc='center')\n",
    "axs[1, 1].axvline(df_all[4]['difference'].median(), color='k', linestyle='dashed', linewidth=1)\n",
    "axs[1, 1].set_title(outcomes[4], fontsize=13, loc='center')\n",
    "text_pos_y, text_pos_x = get_text_pos(axs[1, 1])\n",
    "axs[1, 1].text(df_all[4]['difference'].median()+text_pos_x, text_pos_y, 'Median', fontsize = 12,color = 'red')\n",
    "\n",
    "\n",
    "axs[1, 2].hist(df_all[5]['difference'], color='c', edgecolor='black', bins=30)\n",
    "axs[1, 2].set_title(outcomes[5], fontsize=13, loc='center')\n",
    "axs[1, 2].axvline(df_all[5]['difference'].median(), color='k', linestyle='dashed', linewidth=1)\n",
    "axs[1, 2].set_title(outcomes[5], fontsize=13, loc='center')\n",
    "text_pos_y, text_pos_x = get_text_pos(axs[1, 2])\n",
    "axs[1, 2].text(df_all[5]['difference'].median()+text_pos_x, text_pos_y, 'Median', fontsize = 12,color = 'red')\n",
    "\n",
    "\n",
    "plt.savefig('Growth Rate Comparison.png', facecolor =\"white\")\n",
    "plt.show()"
   ]
  }
 ],
 "metadata": {
  "kernelspec": {
   "display_name": "Python 3 (ipykernel)",
   "language": "python",
   "name": "python3"
  },
  "language_info": {
   "codemirror_mode": {
    "name": "ipython",
    "version": 3
   },
   "file_extension": ".py",
   "mimetype": "text/x-python",
   "name": "python",
   "nbconvert_exporter": "python",
   "pygments_lexer": "ipython3",
   "version": "3.9.7"
  }
 },
 "nbformat": 4,
 "nbformat_minor": 5
}
