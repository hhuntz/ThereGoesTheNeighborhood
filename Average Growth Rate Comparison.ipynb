{
 "cells": [
  {
   "cell_type": "code",
   "execution_count": 21,
   "id": "fc4cade2",
   "metadata": {},
   "outputs": [],
   "source": [
    "import warnings\n",
    "warnings.filterwarnings('ignore')\n",
    "import pandas as pd\n",
    "import numpy as np\n",
    "import seaborn as sns\n",
    "import matplotlib.pyplot as plt"
   ]
  },
  {
   "cell_type": "markdown",
   "id": "86c9d6d1",
   "metadata": {},
   "source": [
    "## Load existing dataset"
   ]
  },
  {
   "cell_type": "code",
   "execution_count": 11,
   "id": "11a2d77d",
   "metadata": {},
   "outputs": [],
   "source": [
    "# each tract's census info, along with all years' cum store months\n",
    "df_final = pd.read_csv('data_for_DID.csv')\n",
    "\n",
    "# matching info\n",
    "matched_df_cleaned = pd.read_csv('matched_tracts_cleaned.csv')\n",
    "\n",
    "# tract info with dispensary_status and match_id\n",
    "dispensaries_updated = pd.read_csv('tract_status.csv')"
   ]
  },
  {
   "cell_type": "markdown",
   "id": "4122ba31",
   "metadata": {},
   "source": [
    "## Get the growth rate"
   ]
  },
  {
   "cell_type": "code",
   "execution_count": 12,
   "id": "b73914ff",
   "metadata": {},
   "outputs": [
    {
     "data": {
      "text/plain": [
       "Index(['Unnamed: 0', 'tract', 'year', 'rec', 'med', 'dispensary_status',\n",
       "       'match_id', 'population', 'income', 'house_value', 'rent',\n",
       "       'unemployment', 'poverty'],\n",
       "      dtype='object')"
      ]
     },
     "execution_count": 12,
     "metadata": {},
     "output_type": "execute_result"
    }
   ],
   "source": [
    "df_final.columns"
   ]
  },
  {
   "cell_type": "code",
   "execution_count": 13,
   "id": "bd2a20c7",
   "metadata": {},
   "outputs": [],
   "source": [
    "df_to_use = df_final[['tract', 'year', 'rec', 'med', 'population', 'income', 'house_value', 'rent', 'unemployment', 'poverty']]"
   ]
  },
  {
   "cell_type": "markdown",
   "id": "a64e2fc1",
   "metadata": {},
   "source": [
    "#### Divide the control and intervention groups"
   ]
  },
  {
   "cell_type": "code",
   "execution_count": 14,
   "id": "19b42711",
   "metadata": {},
   "outputs": [],
   "source": [
    "group_0 = dispensaries_updated[dispensaries_updated['dispensary_status']==0]\n",
    "group_1 = dispensaries_updated[dispensaries_updated['dispensary_status']==1]\n",
    "\n",
    "group_0_tracts = list(group_0.tract)\n",
    "group_1_tracts = list(group_1.tract)\n",
    "\n",
    "df_to_use_0 = df_to_use.loc[df_to_use ['tract'].isin(group_0_tracts)]\n",
    "df_to_use_1 = df_to_use.loc[df_to_use ['tract'].isin(group_1_tracts)]\n"
   ]
  },
  {
   "cell_type": "markdown",
   "id": "57a1267a",
   "metadata": {},
   "source": [
    "#### Functions for getting the growth rate"
   ]
  },
  {
   "cell_type": "code",
   "execution_count": 15,
   "id": "20a2ec39",
   "metadata": {},
   "outputs": [],
   "source": [
    "\n",
    "\"\"\"\n",
    "    Given outcome variable, tract, and ralative dataframe, return growth rate dataframe\n",
    "\"\"\"\n",
    "def growth_rate_per_year (outcome, tract, df):\n",
    "    \n",
    "    curr_df = df[df['tract']==tract]\n",
    "    outcome_change = curr_df[outcome].diff().dropna().values[:7]\n",
    "    outcome_base = curr_df[outcome][:7].values\n",
    "    \n",
    "    data = {'Year': [1, 2, 3, 4, 5, 6, 7],\n",
    "        'change_next_year': outcome_change,\n",
    "         'base_curr_year': outcome_base}\n",
    "    #print(data)\n",
    "    new_df = pd.DataFrame(data)\n",
    "    \n",
    "    new_df['growth_rate'] = new_df['change_next_year']/new_df['base_curr_year']\n",
    "    new_df['tract'] = tract\n",
    "    \n",
    "    return new_df\n",
    "\n",
    "\n",
    "\"\"\"\n",
    "    Given outcome variable, return growth rate dataframe, containing all tracts\n",
    "\"\"\"\n",
    "\n",
    "def get_growth_rate_df(outcome):\n",
    "    res_df = []\n",
    "\n",
    "    for each_group in [group_0_tracts, group_1_tracts]:\n",
    "\n",
    "        df = df_to_use.loc[df_to_use ['tract'].isin(each_group)]\n",
    "        growth_rate_df = []\n",
    "        for each_tract in each_group:\n",
    "            growth_rate_df.append(growth_rate_per_year (outcome, each_tract, df))\n",
    "\n",
    "        res_df.append(pd.concat(growth_rate_df))\n",
    "    \n",
    "    return res_df\n",
    "\n",
    "\"\"\"\n",
    "    Given growth rate dataframes of both groups, return a dictionary containing all growth rates info\n",
    "\"\"\"\n",
    "def get_avg_growth_dict(growth_rate_0, growth_rate_1):\n",
    "    \n",
    "    res_dict = {}\n",
    "    mean_group_0 = growth_rate_0.groupby('tract')['growth_rate'].agg(['mean'])\n",
    "    mean_group_1 = growth_rate_1.groupby('tract')['growth_rate'].agg(['mean'])\n",
    "    mean_group_1.reset_index(level=0, inplace=True)\n",
    "    mean_group_0.reset_index(level=0, inplace=True)\n",
    "    \n",
    "    for each_tract in list(mean_group_0.tract):\n",
    "        res_dict[each_tract] = mean_group_0[mean_group_0['tract']==each_tract]['mean'].values[0]\n",
    "    \n",
    "    for each_tract in list(mean_group_1.tract):\n",
    "        res_dict[each_tract] = mean_group_1[mean_group_1['tract']==each_tract]['mean'].values[0]\n",
    "        \n",
    "    return res_dict"
   ]
  },
  {
   "cell_type": "markdown",
   "id": "61deb93d",
   "metadata": {},
   "source": [
    "#### Get the growth rate dictionary for each outcome variable"
   ]
  },
  {
   "cell_type": "code",
   "execution_count": 16,
   "id": "70b7897b",
   "metadata": {},
   "outputs": [],
   "source": [
    "# income\n",
    "growth_rate_income = get_growth_rate_df('income')\n",
    "growth_rate_income_0 = growth_rate_income[0]\n",
    "growth_rate_income_1 = growth_rate_income[1]\n",
    "income_avg_growth_dict = get_avg_growth_dict(growth_rate_income_0, growth_rate_income_1)\n",
    "\n",
    "# population\n",
    "growth_rate_population = get_growth_rate_df('population')\n",
    "growth_rate_population_0 = growth_rate_population[0]\n",
    "growth_rate_population_1 = growth_rate_population[1]\n",
    "population_avg_growth_dict = get_avg_growth_dict(growth_rate_population_0, growth_rate_population_1)\n",
    "\n",
    "# house value\n",
    "growth_rate_housevalue = get_growth_rate_df('house_value')\n",
    "growth_rate_housevalue_0 = growth_rate_housevalue[0]\n",
    "growth_rate_housevalue_1 = growth_rate_housevalue[1]\n",
    "housevalue_avg_growth_dict = get_avg_growth_dict(growth_rate_housevalue_0, growth_rate_housevalue_1)\n",
    "\n",
    "# rent\n",
    "growth_rate_rent = get_growth_rate_df('rent')\n",
    "growth_rate_rent_0 = growth_rate_rent[0]\n",
    "growth_rate_rent_1 = growth_rate_rent[1]\n",
    "rent_avg_growth_dict = get_avg_growth_dict(growth_rate_rent_0, growth_rate_rent_1)\n",
    "\n",
    "# unemployment\n",
    "growth_rate_unemployment = get_growth_rate_df('unemployment')\n",
    "growth_rate_unemployment_0 = growth_rate_unemployment[0]\n",
    "growth_rate_unemployment_1 = growth_rate_unemployment[1]\n",
    "unemployment_avg_growth_dict = get_avg_growth_dict(growth_rate_unemployment_0, growth_rate_unemployment_1)\n",
    "\n",
    "# poverty\n",
    "growth_rate_poverty = get_growth_rate_df('poverty')\n",
    "growth_rate_poverty_0 = growth_rate_poverty[0]\n",
    "growth_rate_poverty_1 = growth_rate_poverty[1]\n",
    "poverty_avg_growth_dict = get_avg_growth_dict(growth_rate_poverty_0, growth_rate_poverty_1)"
   ]
  },
  {
   "cell_type": "markdown",
   "id": "6f2fc881",
   "metadata": {},
   "source": [
    "#### Create another dictionary for tracking growth rates of all outcome variables"
   ]
  },
  {
   "cell_type": "code",
   "execution_count": 18,
   "id": "447b91b9",
   "metadata": {},
   "outputs": [],
   "source": [
    "avg_growth_dict_all_dim = {}\n",
    "avg_growth_dict_all_dim['income'] = income_avg_growth_dict\n",
    "avg_growth_dict_all_dim['population'] = population_avg_growth_dict\n",
    "avg_growth_dict_all_dim['housevalue'] = housevalue_avg_growth_dict\n",
    "avg_growth_dict_all_dim['rent'] = rent_avg_growth_dict\n",
    "avg_growth_dict_all_dim['unemployment'] = unemployment_avg_growth_dict\n",
    "avg_growth_dict_all_dim['poverty'] = poverty_avg_growth_dict"
   ]
  },
  {
   "cell_type": "markdown",
   "id": "cf2d348a",
   "metadata": {},
   "source": [
    "#### Get the differences between control and intervention groups and Plot the distribution"
   ]
  },
  {
   "cell_type": "code",
   "execution_count": 19,
   "id": "15b9f0da",
   "metadata": {},
   "outputs": [],
   "source": [
    "def get_tract_mean(dim, dict_all_dim, tract):\n",
    "    \n",
    "    return dict_all_dim[dim][tract]\n"
   ]
  },
  {
   "cell_type": "code",
   "execution_count": 33,
   "id": "2c0bd403",
   "metadata": {
    "scrolled": false
   },
   "outputs": [
    {
     "name": "stdout",
     "output_type": "stream",
     "text": [
      "--- --- --- \n",
      "income\n",
      "--- --- --- \n",
      "Mean 0.008561421200269278\n",
      "Min -0.21177202233062434\n",
      "Max 0.16720970028412768\n"
     ]
    },
    {
     "data": {
      "image/png": "[encoded data removed]",
      "text/plain": [
       "<Figure size 576x360 with 1 Axes>"
      ]
     },
     "metadata": {
      "needs_background": "light"
     },
     "output_type": "display_data"
    },
    {
     "name": "stdout",
     "output_type": "stream",
     "text": [
      "--- --- --- \n",
      "population\n",
      "--- --- --- \n",
      "Mean 0.008446164698107604\n",
      "Min -0.5047640090275276\n",
      "Max 0.7015183046346535\n"
     ]
    },
    {
     "data": {
      "image/png": "[encoded data removed]",
      "text/plain": [
       "<Figure size 576x360 with 1 Axes>"
      ]
     },
     "metadata": {
      "needs_background": "light"
     },
     "output_type": "display_data"
    },
    {
     "name": "stdout",
     "output_type": "stream",
     "text": [
      "--- --- --- \n",
      "housevalue\n",
      "--- --- --- \n",
      "Mean -2.26545259563419\n",
      "Min -3062.589374034772\n",
      "Max 6349.766262501348\n"
     ]
    },
    {
     "data": {
      "image/png": "[encoded data removed]",
      "text/plain": [
       "<Figure size 576x360 with 1 Axes>"
      ]
     },
     "metadata": {
      "needs_background": "light"
     },
     "output_type": "display_data"
    },
    {
     "name": "stdout",
     "output_type": "stream",
     "text": [
      "--- --- --- \n",
      "rent\n",
      "--- --- --- \n",
      "Mean -2521.629294918892\n",
      "Min -223962.17419538758\n",
      "Max 127665.29080545001\n"
     ]
    },
    {
     "data": {
      "image/png": "[encoded data removed]",
      "text/plain": [
       "<Figure size 576x360 with 1 Axes>"
      ]
     },
     "metadata": {
      "needs_background": "light"
     },
     "output_type": "display_data"
    },
    {
     "name": "stdout",
     "output_type": "stream",
     "text": [
      "--- --- --- \n",
      "unemployment\n",
      "--- --- --- \n",
      "Mean 0.009767580657182227\n",
      "Min -1.04484126984127\n",
      "Max 1.5281385281385282\n"
     ]
    },
    {
     "data": {
      "image/png": "[encoded data removed]",
      "text/plain": [
       "<Figure size 576x360 with 1 Axes>"
      ]
     },
     "metadata": {
      "needs_background": "light"
     },
     "output_type": "display_data"
    },
    {
     "name": "stdout",
     "output_type": "stream",
     "text": [
      "--- --- --- \n",
      "poverty\n",
      "--- --- --- \n",
      "Mean -0.014381363181007342\n",
      "Min -1.6500024447187962\n",
      "Max 1.9163926440141272\n"
     ]
    },
    {
     "data": {
      "image/png": "[encoded data removed]",
      "text/plain": [
       "<Figure size 576x360 with 1 Axes>"
      ]
     },
     "metadata": {
      "needs_background": "light"
     },
     "output_type": "display_data"
    }
   ],
   "source": [
    "for each_dim in ['income', 'population', 'housevalue', 'rent', 'unemployment', 'poverty']:\n",
    "    \n",
    "    print('--- --- --- ')\n",
    "    print(each_dim)\n",
    "    mean_cmp_df = matched_df_cleaned[matched_df_cleaned['dispensary_status']==0].reset_index(drop=True)\n",
    "\n",
    "    mean_cmp_df['tract0_mean'] = mean_cmp_df['tract'].apply(lambda x: get_tract_mean(each_dim, avg_growth_dict_all_dim, x))\n",
    "    mean_cmp_df['tract1_mean'] = mean_cmp_df['matched_tract'].apply(lambda x: get_tract_mean(each_dim, avg_growth_dict_all_dim, x))\n",
    "    mean_cmp_df['difference'] = mean_cmp_df['tract1_mean'] - mean_cmp_df['tract0_mean']\n",
    "    \n",
    "    print('--- --- --- ')\n",
    "    print('Mean', mean_cmp_df['difference'].mean())\n",
    "    print('Min', mean_cmp_df['difference'].min())\n",
    "    print('Max', mean_cmp_df['difference'].max())\n",
    "    plt.figure(figsize=(8,5))\n",
    "    g = mean_cmp_df['difference'].plot(kind='hist', color='c', edgecolor='black', bins=30)\n",
    "    plt.axvline(mean_cmp_df['difference'].mean(), color='k', linestyle='dashed', linewidth=1)\n",
    "    #g.set(xlim=(-1, 1))\n",
    "    plt.show()"
   ]
  },
  {
   "cell_type": "code",
   "execution_count": null,
   "id": "779686e3",
   "metadata": {},
   "outputs": [],
   "source": []
  },
  {
   "cell_type": "code",
   "execution_count": null,
   "id": "fa06c2c9",
   "metadata": {},
   "outputs": [],
   "source": []
  },
  {
   "cell_type": "code",
   "execution_count": null,
   "id": "8dcd75f6",
   "metadata": {},
   "outputs": [],
   "source": []
  }
 ],
 "metadata": {
  "kernelspec": {
   "display_name": "Python 3 (ipykernel)",
   "language": "python",
   "name": "python3"
  },
  "language_info": {
   "codemirror_mode": {
    "name": "ipython",
    "version": 3
   },
   "file_extension": ".py",
   "mimetype": "text/x-python",
   "name": "python",
   "nbconvert_exporter": "python",
   "pygments_lexer": "ipython3",
   "version": "3.9.7"
  }
 },
 "nbformat": 4,
 "nbformat_minor": 5
}
