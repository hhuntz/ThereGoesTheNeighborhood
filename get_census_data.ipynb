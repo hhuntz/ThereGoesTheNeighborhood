{
 "cells": [
  {
   "cell_type": "code",
   "execution_count": 129,
   "id": "e6f49b3e",
   "metadata": {},
   "outputs": [],
   "source": [
    "import pandas as pd\n",
    "import numpy as np\n",
    "import cenpy\n",
    "import os"
   ]
  },
  {
   "cell_type": "code",
   "execution_count": 130,
   "id": "91eba34b",
   "metadata": {},
   "outputs": [],
   "source": [
    "cen_vars = {\n",
    "        'B01003_001E': 'population', # total population\n",
    "        'B06011_001E': 'income', # median household income in USD\n",
    "        'B17020_002E': 'poverty_total', # number of people (incl. children) living below poverty line\n",
    "        'B23025_003E': 'labor_force', # number of people who could work\n",
    "        'B23025_005E': 'unemployed', # number of people in labor force but unemployed\n",
    "        'B25077_001E': 'house_value', # median value of owner-occupied housing unit\n",
    "        'B25064_001E': 'rent', # median rent of occupied units\n",
    "       }"
   ]
  },
  {
   "cell_type": "code",
   "execution_count": 131,
   "id": "f3acaefe",
   "metadata": {},
   "outputs": [],
   "source": [
    "cen = {} \n",
    "\n",
    "for year in range(2014, 2022):\n",
    "    # connect to census api\n",
    "    api_database = f'ACSDT5Y{year}'\n",
    "    api_conn = cenpy.remote.APIConnection(api_database)\n",
    "    g_unit = 'tract'\n",
    "    g_filter = {'state':'08'} # Colorado\n",
    "    cen[year] = api_conn.query(cen_vars, geo_unit = g_unit, geo_filter = g_filter)\n",
    "\n",
    "    # rename columns\n",
    "    new_cols = list(cen_vars.values())\n",
    "    new_cols.extend(['state_code', 'county_code', 'tract'])\n",
    "    cen[year].columns = new_cols\n",
    "\n",
    "    # calculate unemployment\n",
    "    cen[year]['unemployment'] = (cen[year]['unemployed'].astype(int) / cen[year]['labor_force'].astype(int)).round(2)\n",
    "\n",
    "    # calculate poverty rate\n",
    "    cen[year]['poverty'] = (cen[year]['poverty_total'].astype(int) / cen[year]['population'].astype(int)).round(2)\n",
    "    \n",
    "    # add full tract number\n",
    "    cen[year]['tract'] = cen[year]['state_code'] + cen[year]['county_code'] + cen[year]['tract']\n",
    "    \n",
    "    # drop extraneous cols\n",
    "    cen[year] = cen[year].drop(['poverty_total', 'labor_force', 'unemployed', 'state_code', 'county_code'], axis = 1)\n",
    "    \n",
    "    # write CSV for year\n",
    "    full_path = os.path.join(os.path.abspath(os.path.dirname('__file__'))) # get file location\n",
    "    cen[year].to_csv(full_path + f'/census_data/co_{year}.csv')\n"
   ]
  },
  {
   "cell_type": "code",
   "execution_count": null,
   "id": "7734ace3",
   "metadata": {},
   "outputs": [],
   "source": []
  }
 ],
 "metadata": {
  "kernelspec": {
   "display_name": "Python 3 (ipykernel)",
   "language": "python",
   "name": "python3"
  },
  "language_info": {
   "codemirror_mode": {
    "name": "ipython",
    "version": 3
   },
   "file_extension": ".py",
   "mimetype": "text/x-python",
   "name": "python",
   "nbconvert_exporter": "python",
   "pygments_lexer": "ipython3",
   "version": "3.11.0"
  }
 },
 "nbformat": 4,
 "nbformat_minor": 5
}
