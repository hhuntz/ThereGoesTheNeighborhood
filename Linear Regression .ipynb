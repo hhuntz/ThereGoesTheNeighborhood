{
 "cells": [
  {
   "cell_type": "code",
   "execution_count": 175,
   "id": "6e2419f0",
   "metadata": {},
   "outputs": [],
   "source": [
    "import numpy as np\n",
    "import pandas as pd\n",
    "import matplotlib.pyplot as plt\n",
    "import seaborn as sns\n",
    "from sklearn.preprocessing import MinMaxScaler, StandardScaler\n",
    "from sklearn.linear_model import LinearRegression\n",
    "import statsmodels.api as sm\n",
    "pd.options.mode.chained_assignment = None"
   ]
  },
  {
   "cell_type": "code",
   "execution_count": 2,
   "id": "5d8004be",
   "metadata": {},
   "outputs": [],
   "source": [
    "# each tract's census info, along with all years' cum store months\n",
    "df_final = pd.read_csv('data_for_DID.csv')"
   ]
  },
  {
   "cell_type": "code",
   "execution_count": 50,
   "id": "670cb3f1",
   "metadata": {},
   "outputs": [
    {
     "data": {
      "text/html": [
       "<div>\n",
       "<style scoped>\n",
       "    .dataframe tbody tr th:only-of-type {\n",
       "        vertical-align: middle;\n",
       "    }\n",
       "\n",
       "    .dataframe tbody tr th {\n",
       "        vertical-align: top;\n",
       "    }\n",
       "\n",
       "    .dataframe thead th {\n",
       "        text-align: right;\n",
       "    }\n",
       "</style>\n",
       "<table border=\"1\" class=\"dataframe\">\n",
       "  <thead>\n",
       "    <tr style=\"text-align: right;\">\n",
       "      <th></th>\n",
       "      <th>Unnamed: 0</th>\n",
       "      <th>tract</th>\n",
       "      <th>year</th>\n",
       "      <th>rec</th>\n",
       "      <th>med</th>\n",
       "      <th>dispensary_status</th>\n",
       "      <th>match_id</th>\n",
       "      <th>population</th>\n",
       "      <th>income</th>\n",
       "      <th>house_value</th>\n",
       "      <th>rent</th>\n",
       "      <th>unemployment</th>\n",
       "      <th>poverty</th>\n",
       "    </tr>\n",
       "  </thead>\n",
       "  <tbody>\n",
       "    <tr>\n",
       "      <th>0</th>\n",
       "      <td>0</td>\n",
       "      <td>8001007801</td>\n",
       "      <td>2014</td>\n",
       "      <td>0.0</td>\n",
       "      <td>0.0</td>\n",
       "      <td>0.0</td>\n",
       "      <td>180.0</td>\n",
       "      <td>4149.0</td>\n",
       "      <td>12675.0</td>\n",
       "      <td>156800.0</td>\n",
       "      <td>647.0</td>\n",
       "      <td>0.12</td>\n",
       "      <td>0.58</td>\n",
       "    </tr>\n",
       "    <tr>\n",
       "      <th>1</th>\n",
       "      <td>1</td>\n",
       "      <td>8001007801</td>\n",
       "      <td>2015</td>\n",
       "      <td>12.0</td>\n",
       "      <td>0.0</td>\n",
       "      <td>0.0</td>\n",
       "      <td>180.0</td>\n",
       "      <td>3930.0</td>\n",
       "      <td>12526.0</td>\n",
       "      <td>165800.0</td>\n",
       "      <td>665.0</td>\n",
       "      <td>0.07</td>\n",
       "      <td>0.56</td>\n",
       "    </tr>\n",
       "    <tr>\n",
       "      <th>2</th>\n",
       "      <td>2</td>\n",
       "      <td>8001007801</td>\n",
       "      <td>2016</td>\n",
       "      <td>24.0</td>\n",
       "      <td>0.0</td>\n",
       "      <td>0.0</td>\n",
       "      <td>180.0</td>\n",
       "      <td>4374.0</td>\n",
       "      <td>15885.0</td>\n",
       "      <td>162100.0</td>\n",
       "      <td>742.0</td>\n",
       "      <td>0.08</td>\n",
       "      <td>0.47</td>\n",
       "    </tr>\n",
       "    <tr>\n",
       "      <th>3</th>\n",
       "      <td>3</td>\n",
       "      <td>8001007801</td>\n",
       "      <td>2017</td>\n",
       "      <td>36.0</td>\n",
       "      <td>0.0</td>\n",
       "      <td>0.0</td>\n",
       "      <td>180.0</td>\n",
       "      <td>4412.0</td>\n",
       "      <td>17653.0</td>\n",
       "      <td>174300.0</td>\n",
       "      <td>818.0</td>\n",
       "      <td>0.10</td>\n",
       "      <td>0.44</td>\n",
       "    </tr>\n",
       "    <tr>\n",
       "      <th>4</th>\n",
       "      <td>4</td>\n",
       "      <td>8001007801</td>\n",
       "      <td>2018</td>\n",
       "      <td>48.0</td>\n",
       "      <td>0.0</td>\n",
       "      <td>0.0</td>\n",
       "      <td>180.0</td>\n",
       "      <td>4137.0</td>\n",
       "      <td>21320.0</td>\n",
       "      <td>208200.0</td>\n",
       "      <td>920.0</td>\n",
       "      <td>0.06</td>\n",
       "      <td>0.31</td>\n",
       "    </tr>\n",
       "    <tr>\n",
       "      <th>...</th>\n",
       "      <td>...</td>\n",
       "      <td>...</td>\n",
       "      <td>...</td>\n",
       "      <td>...</td>\n",
       "      <td>...</td>\n",
       "      <td>...</td>\n",
       "      <td>...</td>\n",
       "      <td>...</td>\n",
       "      <td>...</td>\n",
       "      <td>...</td>\n",
       "      <td>...</td>\n",
       "      <td>...</td>\n",
       "      <td>...</td>\n",
       "    </tr>\n",
       "    <tr>\n",
       "      <th>5803</th>\n",
       "      <td>5803</td>\n",
       "      <td>8125963200</td>\n",
       "      <td>2017</td>\n",
       "      <td>0.0</td>\n",
       "      <td>0.0</td>\n",
       "      <td>0.0</td>\n",
       "      <td>322.0</td>\n",
       "      <td>5467.0</td>\n",
       "      <td>25463.0</td>\n",
       "      <td>151600.0</td>\n",
       "      <td>739.0</td>\n",
       "      <td>0.02</td>\n",
       "      <td>0.13</td>\n",
       "    </tr>\n",
       "    <tr>\n",
       "      <th>5804</th>\n",
       "      <td>5804</td>\n",
       "      <td>8125963200</td>\n",
       "      <td>2018</td>\n",
       "      <td>0.0</td>\n",
       "      <td>0.0</td>\n",
       "      <td>0.0</td>\n",
       "      <td>322.0</td>\n",
       "      <td>5713.0</td>\n",
       "      <td>26952.0</td>\n",
       "      <td>201500.0</td>\n",
       "      <td>840.0</td>\n",
       "      <td>0.02</td>\n",
       "      <td>0.15</td>\n",
       "    </tr>\n",
       "    <tr>\n",
       "      <th>5805</th>\n",
       "      <td>5805</td>\n",
       "      <td>8125963200</td>\n",
       "      <td>2019</td>\n",
       "      <td>0.0</td>\n",
       "      <td>0.0</td>\n",
       "      <td>0.0</td>\n",
       "      <td>322.0</td>\n",
       "      <td>5581.0</td>\n",
       "      <td>29879.0</td>\n",
       "      <td>205500.0</td>\n",
       "      <td>892.0</td>\n",
       "      <td>0.03</td>\n",
       "      <td>0.13</td>\n",
       "    </tr>\n",
       "    <tr>\n",
       "      <th>5806</th>\n",
       "      <td>5806</td>\n",
       "      <td>8125963200</td>\n",
       "      <td>2020</td>\n",
       "      <td>0.0</td>\n",
       "      <td>0.0</td>\n",
       "      <td>0.0</td>\n",
       "      <td>322.0</td>\n",
       "      <td>5827.0</td>\n",
       "      <td>32704.0</td>\n",
       "      <td>201900.0</td>\n",
       "      <td>878.0</td>\n",
       "      <td>0.04</td>\n",
       "      <td>0.10</td>\n",
       "    </tr>\n",
       "    <tr>\n",
       "      <th>5807</th>\n",
       "      <td>5807</td>\n",
       "      <td>8125963200</td>\n",
       "      <td>2021</td>\n",
       "      <td>0.0</td>\n",
       "      <td>0.0</td>\n",
       "      <td>0.0</td>\n",
       "      <td>322.0</td>\n",
       "      <td>5715.0</td>\n",
       "      <td>34737.0</td>\n",
       "      <td>180200.0</td>\n",
       "      <td>901.0</td>\n",
       "      <td>0.07</td>\n",
       "      <td>0.16</td>\n",
       "    </tr>\n",
       "  </tbody>\n",
       "</table>\n",
       "<p>5808 rows × 13 columns</p>\n",
       "</div>"
      ],
      "text/plain": [
       "      Unnamed: 0       tract  year   rec  med  dispensary_status  match_id  \\\n",
       "0              0  8001007801  2014   0.0  0.0                0.0     180.0   \n",
       "1              1  8001007801  2015  12.0  0.0                0.0     180.0   \n",
       "2              2  8001007801  2016  24.0  0.0                0.0     180.0   \n",
       "3              3  8001007801  2017  36.0  0.0                0.0     180.0   \n",
       "4              4  8001007801  2018  48.0  0.0                0.0     180.0   \n",
       "...          ...         ...   ...   ...  ...                ...       ...   \n",
       "5803        5803  8125963200  2017   0.0  0.0                0.0     322.0   \n",
       "5804        5804  8125963200  2018   0.0  0.0                0.0     322.0   \n",
       "5805        5805  8125963200  2019   0.0  0.0                0.0     322.0   \n",
       "5806        5806  8125963200  2020   0.0  0.0                0.0     322.0   \n",
       "5807        5807  8125963200  2021   0.0  0.0                0.0     322.0   \n",
       "\n",
       "      population   income  house_value   rent  unemployment  poverty  \n",
       "0         4149.0  12675.0     156800.0  647.0          0.12     0.58  \n",
       "1         3930.0  12526.0     165800.0  665.0          0.07     0.56  \n",
       "2         4374.0  15885.0     162100.0  742.0          0.08     0.47  \n",
       "3         4412.0  17653.0     174300.0  818.0          0.10     0.44  \n",
       "4         4137.0  21320.0     208200.0  920.0          0.06     0.31  \n",
       "...          ...      ...          ...    ...           ...      ...  \n",
       "5803      5467.0  25463.0     151600.0  739.0          0.02     0.13  \n",
       "5804      5713.0  26952.0     201500.0  840.0          0.02     0.15  \n",
       "5805      5581.0  29879.0     205500.0  892.0          0.03     0.13  \n",
       "5806      5827.0  32704.0     201900.0  878.0          0.04     0.10  \n",
       "5807      5715.0  34737.0     180200.0  901.0          0.07     0.16  \n",
       "\n",
       "[5808 rows x 13 columns]"
      ]
     },
     "execution_count": 50,
     "metadata": {},
     "output_type": "execute_result"
    }
   ],
   "source": [
    "df_final"
   ]
  },
  {
   "cell_type": "code",
   "execution_count": 166,
   "id": "8f9a471b",
   "metadata": {},
   "outputs": [],
   "source": [
    "def last_year_val(year, tract, df, outcome):\n",
    "    if year ==2014:\n",
    "        return 0\n",
    "    else:\n",
    "        curr_df = df[(df['year']==year-1)&(df['tract']==tract)]\n",
    "        return curr_df[outcome].values[0]"
   ]
  },
  {
   "cell_type": "code",
   "execution_count": 178,
   "id": "37cacb52",
   "metadata": {
    "scrolled": false
   },
   "outputs": [
    {
     "name": "stdout",
     "output_type": "stream",
     "text": [
      "--- --- --- --- --- --- --- --- --- --- --- ---\n",
      "income\n",
      "--- --- --- --- --- --- --- --- --- --- --- ---\n",
      "\n",
      "Box Plot (original data)\n"
     ]
    },
    {
     "data": {
      "image/png": "[encoded data removed]",
      "text/plain": [
       "<Figure size 432x288 with 1 Axes>"
      ]
     },
     "metadata": {
      "needs_background": "light"
     },
     "output_type": "display_data"
    },
    {
     "name": "stdout",
     "output_type": "stream",
     "text": [
      "Box Plot (outliers removed)\n"
     ]
    },
    {
     "data": {
      "image/png": "[encoded data removed]",
      "text/plain": [
       "<Figure size 432x288 with 1 Axes>"
      ]
     },
     "metadata": {
      "needs_background": "light"
     },
     "output_type": "display_data"
    },
    {
     "name": "stdout",
     "output_type": "stream",
     "text": [
      "Coefficient:  [[-902.16062683 7571.20584981]]\n",
      "Intercept:  [33433.10403098]\n",
      "p-values:  x1    5.040534e-02\n",
      "x2    2.983221e-59\n",
      "Name: P>|t|, dtype: float64\n",
      "\n",
      "\n",
      "--- --- --- --- --- --- --- --- --- --- --- ---\n",
      "population\n",
      "--- --- --- --- --- --- --- --- --- --- --- ---\n",
      "\n",
      "Box Plot (original data)\n"
     ]
    },
    {
     "data": {
      "image/png": "[encoded data removed]",
      "text/plain": [
       "<Figure size 432x288 with 1 Axes>"
      ]
     },
     "metadata": {
      "needs_background": "light"
     },
     "output_type": "display_data"
    },
    {
     "name": "stdout",
     "output_type": "stream",
     "text": [
      "Box Plot (outliers removed)\n"
     ]
    },
    {
     "data": {
      "image/png": "[encoded data removed]",
      "text/plain": [
       "<Figure size 432x288 with 1 Axes>"
      ]
     },
     "metadata": {
      "needs_background": "light"
     },
     "output_type": "display_data"
    },
    {
     "name": "stdout",
     "output_type": "stream",
     "text": [
      "Coefficient:  [[-96.77945099 938.00447543]]\n",
      "Intercept:  [3394.82521739]\n",
      "p-values:  x1    4.066840e-02\n",
      "x2    8.228189e-85\n",
      "Name: P>|t|, dtype: float64\n",
      "\n",
      "\n",
      "--- --- --- --- --- --- --- --- --- --- --- ---\n",
      "house_value\n",
      "--- --- --- --- --- --- --- --- --- --- --- ---\n",
      "\n",
      "Box Plot (original data)\n"
     ]
    },
    {
     "data": {
      "image/png": "[encoded data removed]",
      "text/plain": [
       "<Figure size 432x288 with 1 Axes>"
      ]
     },
     "metadata": {
      "needs_background": "light"
     },
     "output_type": "display_data"
    },
    {
     "name": "stdout",
     "output_type": "stream",
     "text": [
      "Box Plot (outliers removed)\n"
     ]
    },
    {
     "data": {
      "image/png": "[encoded data removed]",
      "text/plain": [
       "<Figure size 432x288 with 1 Axes>"
      ]
     },
     "metadata": {
      "needs_background": "light"
     },
     "output_type": "display_data"
    },
    {
     "name": "stdout",
     "output_type": "stream",
     "text": [
      "Coefficient:  [[ 3299.61972652 -5070.09986454]]\n",
      "Intercept:  [312165.78255304]\n",
      "p-values:  x1    0.488455\n",
      "x2    0.287123\n",
      "Name: P>|t|, dtype: float64\n",
      "\n",
      "\n",
      "--- --- --- --- --- --- --- --- --- --- --- ---\n",
      "rent\n",
      "--- --- --- --- --- --- --- --- --- --- --- ---\n",
      "\n",
      "Box Plot (original data)\n"
     ]
    },
    {
     "data": {
      "image/png": "[encoded data removed]",
      "text/plain": [
       "<Figure size 432x288 with 1 Axes>"
      ]
     },
     "metadata": {
      "needs_background": "light"
     },
     "output_type": "display_data"
    },
    {
     "name": "stdout",
     "output_type": "stream",
     "text": [
      "Box Plot (outliers removed)\n"
     ]
    },
    {
     "data": {
      "image/png": "[encoded data removed]",
      "text/plain": [
       "<Figure size 432x288 with 1 Axes>"
      ]
     },
     "metadata": {
      "needs_background": "light"
     },
     "output_type": "display_data"
    },
    {
     "name": "stdout",
     "output_type": "stream",
     "text": [
      "Coefficient:  [[-17.64654923  -7.87821514]]\n",
      "Intercept:  [1168.36648551]\n",
      "p-values:  x1    0.286598\n",
      "x2    0.634247\n",
      "Name: P>|t|, dtype: float64\n",
      "\n",
      "\n",
      "--- --- --- --- --- --- --- --- --- --- --- ---\n",
      "unemployment\n",
      "--- --- --- --- --- --- --- --- --- --- --- ---\n",
      "\n",
      "Box Plot (original data)\n"
     ]
    },
    {
     "data": {
      "image/png": "[encoded data removed]",
      "text/plain": [
       "<Figure size 432x288 with 1 Axes>"
      ]
     },
     "metadata": {
      "needs_background": "light"
     },
     "output_type": "display_data"
    },
    {
     "name": "stdout",
     "output_type": "stream",
     "text": [
      "Box Plot (outliers removed)\n"
     ]
    },
    {
     "data": {
      "image/png": "[encoded data removed]",
      "text/plain": [
       "<Figure size 432x288 with 1 Axes>"
      ]
     },
     "metadata": {
      "needs_background": "light"
     },
     "output_type": "display_data"
    },
    {
     "name": "stdout",
     "output_type": "stream",
     "text": [
      "Coefficient:  [[-0.00290106  0.01828552]]\n",
      "Intercept:  [0.05576259]\n",
      "p-values:  x1     4.981854e-04\n",
      "x2    1.342559e-102\n",
      "Name: P>|t|, dtype: float64\n",
      "\n",
      "\n",
      "--- --- --- --- --- --- --- --- --- --- --- ---\n",
      "poverty\n",
      "--- --- --- --- --- --- --- --- --- --- --- ---\n",
      "\n",
      "Box Plot (original data)\n"
     ]
    },
    {
     "data": {
      "image/png": "[encoded data removed]",
      "text/plain": [
       "<Figure size 432x288 with 1 Axes>"
      ]
     },
     "metadata": {
      "needs_background": "light"
     },
     "output_type": "display_data"
    },
    {
     "name": "stdout",
     "output_type": "stream",
     "text": [
      "Box Plot (outliers removed)\n"
     ]
    },
    {
     "data": {
      "image/png": "[encoded data removed]",
      "text/plain": [
       "<Figure size 432x288 with 1 Axes>"
      ]
     },
     "metadata": {
      "needs_background": "light"
     },
     "output_type": "display_data"
    },
    {
     "name": "stdout",
     "output_type": "stream",
     "text": [
      "Coefficient:  [[-0.00449465  0.05856863]]\n",
      "Intercept:  [0.12997339]\n",
      "p-values:  x1     1.884414e-02\n",
      "x2    1.585501e-190\n",
      "Name: P>|t|, dtype: float64\n",
      "\n",
      "\n"
     ]
    }
   ],
   "source": [
    "for outcome in ['income', 'population', 'house_value', 'rent', 'unemployment', 'poverty']:\n",
    "    print('--- --- --- --- --- --- --- --- --- --- --- ---')\n",
    "    print(outcome)\n",
    "    print('--- --- --- --- --- --- --- --- --- --- --- ---')\n",
    "    df = df_final[['tract', 'year', 'rec', 'med', outcome]]\n",
    "    df['total'] = df['rec'] + df['med']\n",
    "    df['last_year'] = df.apply(lambda x: last_year_val(x['year'], x['tract'], df, outcome), axis=1)\n",
    "    \n",
    "    print()\n",
    "    print('Box Plot (original data)')\n",
    "    sns.boxplot(x=df[outcome])\n",
    "    plt.show()\n",
    "\n",
    "    Q1 = df[outcome].quantile(0.25)\n",
    "    Q3 = df[outcome].quantile(0.75)\n",
    "    IQR = Q3 - Q1\n",
    "    Lower = Q1 - (1.5 * IQR)\n",
    "    Upper = Q3 + (1.5 * IQR)\n",
    "\n",
    "\n",
    "    #income_df['randNumCol'] = np.random.randint(0,50000, size=len(income_df))\n",
    "\n",
    "    # remove outliers \n",
    "    print('Box Plot (outliers removed)')\n",
    "    df_valid = df[(df[outcome]<=Upper)&(df[outcome]>=Lower)&(df[outcome]!=2014)]\n",
    "    sns.boxplot(x=df_valid[outcome])\n",
    "    plt.show()\n",
    "\n",
    "    #prepare data\n",
    "    X = df_valid[['total', 'last_year']]\n",
    "    y = df_valid[[outcome]]\n",
    "\n",
    "    # scale the data\n",
    "    scaler = StandardScaler()\n",
    "    X = scaler.fit_transform(X)\n",
    "\n",
    "    #fit LR model\n",
    "    lr = LinearRegression().fit(X,y)\n",
    "\n",
    "    # print coefficient and intercept\n",
    "    print('Coefficient: ', lr.coef_)\n",
    "    print('Intercept: ', lr.intercept_)\n",
    "\n",
    "    # get p value\n",
    "    mod = sm.OLS(y,X)\n",
    "    fii = mod.fit()\n",
    "    p_values = fii.summary2().tables[1]['P>|t|']\n",
    "    print('p-values: ', p_values)\n",
    "    print()\n",
    "    print()\n"
   ]
  },
  {
   "cell_type": "code",
   "execution_count": null,
   "id": "031e1ee5",
   "metadata": {},
   "outputs": [],
   "source": []
  },
  {
   "cell_type": "code",
   "execution_count": null,
   "id": "51e76afc",
   "metadata": {},
   "outputs": [],
   "source": []
  },
  {
   "cell_type": "code",
   "execution_count": null,
   "id": "90205bb3",
   "metadata": {},
   "outputs": [],
   "source": []
  }
 ],
 "metadata": {
  "kernelspec": {
   "display_name": "Python 3 (ipykernel)",
   "language": "python",
   "name": "python3"
  },
  "language_info": {
   "codemirror_mode": {
    "name": "ipython",
    "version": 3
   },
   "file_extension": ".py",
   "mimetype": "text/x-python",
   "name": "python",
   "nbconvert_exporter": "python",
   "pygments_lexer": "ipython3",
   "version": "3.9.7"
  }
 },
 "nbformat": 4,
 "nbformat_minor": 5
}
