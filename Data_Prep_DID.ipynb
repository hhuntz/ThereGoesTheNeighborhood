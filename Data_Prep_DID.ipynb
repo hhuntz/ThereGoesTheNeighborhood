{
 "cells": [
  {
   "cell_type": "code",
   "execution_count": 1,
   "id": "2d72d28e",
   "metadata": {},
   "outputs": [],
   "source": [
    "import warnings\n",
    "warnings.filterwarnings('ignore')\n",
    "import pandas as pd\n",
    "import numpy as np\n"
   ]
  },
  {
   "cell_type": "markdown",
   "id": "01f9a46c",
   "metadata": {},
   "source": [
    "## Load existing dataset"
   ]
  },
  {
   "cell_type": "code",
   "execution_count": 2,
   "id": "791d5413",
   "metadata": {},
   "outputs": [],
   "source": [
    "# tract info\n",
    "tract_info = pd.read_csv('tract_info_complete_version.csv')\n",
    "\n",
    "# matching info\n",
    "matching_info = pd.read_csv('matched_pairs_2021.csv')"
   ]
  },
  {
   "cell_type": "code",
   "execution_count": 3,
   "id": "36139e91",
   "metadata": {},
   "outputs": [
    {
     "data": {
      "text/html": [
       "<div>\n",
       "<style scoped>\n",
       "    .dataframe tbody tr th:only-of-type {\n",
       "        vertical-align: middle;\n",
       "    }\n",
       "\n",
       "    .dataframe tbody tr th {\n",
       "        vertical-align: top;\n",
       "    }\n",
       "\n",
       "    .dataframe thead th {\n",
       "        text-align: right;\n",
       "    }\n",
       "</style>\n",
       "<table border=\"1\" class=\"dataframe\">\n",
       "  <thead>\n",
       "    <tr style=\"text-align: right;\">\n",
       "      <th></th>\n",
       "      <th>Unnamed: 0</th>\n",
       "      <th>population</th>\n",
       "      <th>income</th>\n",
       "      <th>house_value</th>\n",
       "      <th>rent</th>\n",
       "      <th>tract</th>\n",
       "      <th>unemployment</th>\n",
       "      <th>poverty</th>\n",
       "      <th>tract_str</th>\n",
       "      <th>tract_str_last6</th>\n",
       "      <th>...</th>\n",
       "      <th>2021_med</th>\n",
       "      <th>2014_rec</th>\n",
       "      <th>2015_rec</th>\n",
       "      <th>2016_rec</th>\n",
       "      <th>2017_rec</th>\n",
       "      <th>2018_rec</th>\n",
       "      <th>2019_rec</th>\n",
       "      <th>2020_rec</th>\n",
       "      <th>2021_rec</th>\n",
       "      <th>total</th>\n",
       "    </tr>\n",
       "  </thead>\n",
       "  <tbody>\n",
       "    <tr>\n",
       "      <th>334</th>\n",
       "      <td>334</td>\n",
       "      <td>4736</td>\n",
       "      <td>42976</td>\n",
       "      <td>472300</td>\n",
       "      <td>1438</td>\n",
       "      <td>13302</td>\n",
       "      <td>0.03</td>\n",
       "      <td>0.15</td>\n",
       "      <td>8013013302</td>\n",
       "      <td>13302</td>\n",
       "      <td>...</td>\n",
       "      <td>84.0</td>\n",
       "      <td>0.0</td>\n",
       "      <td>12.0</td>\n",
       "      <td>24.0</td>\n",
       "      <td>36.0</td>\n",
       "      <td>64.0</td>\n",
       "      <td>76.0</td>\n",
       "      <td>88.0</td>\n",
       "      <td>100.0</td>\n",
       "      <td>184.0</td>\n",
       "    </tr>\n",
       "    <tr>\n",
       "      <th>641</th>\n",
       "      <td>641</td>\n",
       "      <td>5319</td>\n",
       "      <td>75855</td>\n",
       "      <td>596300</td>\n",
       "      <td>3185</td>\n",
       "      <td>14144</td>\n",
       "      <td>0.02</td>\n",
       "      <td>0.01</td>\n",
       "      <td>8035014144</td>\n",
       "      <td>14144</td>\n",
       "      <td>...</td>\n",
       "      <td>NaN</td>\n",
       "      <td>NaN</td>\n",
       "      <td>NaN</td>\n",
       "      <td>NaN</td>\n",
       "      <td>NaN</td>\n",
       "      <td>NaN</td>\n",
       "      <td>NaN</td>\n",
       "      <td>NaN</td>\n",
       "      <td>NaN</td>\n",
       "      <td>0.0</td>\n",
       "    </tr>\n",
       "  </tbody>\n",
       "</table>\n",
       "<p>2 rows × 27 columns</p>\n",
       "</div>"
      ],
      "text/plain": [
       "     Unnamed: 0  population  income  house_value  rent  tract  unemployment  \\\n",
       "334         334        4736   42976       472300  1438  13302          0.03   \n",
       "641         641        5319   75855       596300  3185  14144          0.02   \n",
       "\n",
       "     poverty   tract_str  tract_str_last6  ...  2021_med  2014_rec  2015_rec  \\\n",
       "334     0.15  8013013302            13302  ...      84.0       0.0      12.0   \n",
       "641     0.01  8035014144            14144  ...       NaN       NaN       NaN   \n",
       "\n",
       "     2016_rec  2017_rec  2018_rec  2019_rec  2020_rec  2021_rec  total  \n",
       "334      24.0      36.0      64.0      76.0      88.0     100.0  184.0  \n",
       "641       NaN       NaN       NaN       NaN       NaN       NaN    0.0  \n",
       "\n",
       "[2 rows x 27 columns]"
      ]
     },
     "execution_count": 3,
     "metadata": {},
     "output_type": "execute_result"
    }
   ],
   "source": [
    "tract_info.sample(2)"
   ]
  },
  {
   "cell_type": "code",
   "execution_count": 4,
   "id": "6312a908",
   "metadata": {},
   "outputs": [
    {
     "data": {
      "text/html": [
       "<div>\n",
       "<style scoped>\n",
       "    .dataframe tbody tr th:only-of-type {\n",
       "        vertical-align: middle;\n",
       "    }\n",
       "\n",
       "    .dataframe tbody tr th {\n",
       "        vertical-align: top;\n",
       "    }\n",
       "\n",
       "    .dataframe thead th {\n",
       "        text-align: right;\n",
       "    }\n",
       "</style>\n",
       "<table border=\"1\" class=\"dataframe\">\n",
       "  <thead>\n",
       "    <tr style=\"text-align: right;\">\n",
       "      <th></th>\n",
       "      <th>Unnamed: 0</th>\n",
       "      <th>population</th>\n",
       "      <th>income</th>\n",
       "      <th>house_value</th>\n",
       "      <th>rent</th>\n",
       "      <th>unemployment</th>\n",
       "      <th>poverty</th>\n",
       "      <th>dispensary_status</th>\n",
       "      <th>scores</th>\n",
       "      <th>match_id</th>\n",
       "      <th>record_id</th>\n",
       "    </tr>\n",
       "  </thead>\n",
       "  <tbody>\n",
       "    <tr>\n",
       "      <th>480</th>\n",
       "      <td>1322</td>\n",
       "      <td>7796</td>\n",
       "      <td>39543</td>\n",
       "      <td>386200</td>\n",
       "      <td>1074</td>\n",
       "      <td>0.04</td>\n",
       "      <td>0.03</td>\n",
       "      <td>1</td>\n",
       "      <td>0.212427</td>\n",
       "      <td>240</td>\n",
       "      <td>1322</td>\n",
       "    </tr>\n",
       "    <tr>\n",
       "      <th>106</th>\n",
       "      <td>1133</td>\n",
       "      <td>1625</td>\n",
       "      <td>19613</td>\n",
       "      <td>110600</td>\n",
       "      <td>601</td>\n",
       "      <td>0.06</td>\n",
       "      <td>0.19</td>\n",
       "      <td>1</td>\n",
       "      <td>0.751487</td>\n",
       "      <td>53</td>\n",
       "      <td>1133</td>\n",
       "    </tr>\n",
       "  </tbody>\n",
       "</table>\n",
       "</div>"
      ],
      "text/plain": [
       "     Unnamed: 0  population  income  house_value  rent  unemployment  poverty  \\\n",
       "480        1322        7796   39543       386200  1074          0.04     0.03   \n",
       "106        1133        1625   19613       110600   601          0.06     0.19   \n",
       "\n",
       "     dispensary_status    scores  match_id  record_id  \n",
       "480                  1  0.212427       240       1322  \n",
       "106                  1  0.751487        53       1133  "
      ]
     },
     "execution_count": 4,
     "metadata": {},
     "output_type": "execute_result"
    }
   ],
   "source": [
    "matching_info.sample(2)"
   ]
  },
  {
   "cell_type": "code",
   "execution_count": 5,
   "id": "9ac06b61",
   "metadata": {},
   "outputs": [],
   "source": [
    "# census data \n",
    "\n",
    "year_info_df = []\n",
    "\n",
    "for i in range(8):\n",
    "    name = 'census_data/co_' + str(2014+i) +'.csv'\n",
    "    data = pd.read_csv(name)\n",
    "    data = data.drop('Unnamed: 0', axis=1)\n",
    "    data['year'] = str(2014+i)\n",
    "    year_info_df.append(data)\n",
    "    "
   ]
  },
  {
   "cell_type": "markdown",
   "id": "3812c27a",
   "metadata": {},
   "source": [
    "## Prepare new dataset"
   ]
  },
  {
   "cell_type": "code",
   "execution_count": 6,
   "id": "a2c809f7",
   "metadata": {},
   "outputs": [
    {
     "data": {
      "text/plain": [
       "726"
      ]
     },
     "execution_count": 6,
     "metadata": {},
     "output_type": "execute_result"
    }
   ],
   "source": [
    "dispensaries = pd.merge(tract_info, matching_info,  how='inner', on=['population', 'income', 'house_value', 'rent'])\n",
    "len(dispensaries)"
   ]
  },
  {
   "cell_type": "code",
   "execution_count": 7,
   "id": "398d6822",
   "metadata": {},
   "outputs": [
    {
     "data": {
      "text/plain": [
       "Unnamed: 0_x           0\n",
       "population             0\n",
       "income                 0\n",
       "house_value            0\n",
       "rent                   0\n",
       "tract                  0\n",
       "unemployment_x         0\n",
       "poverty_x              0\n",
       "tract_str              0\n",
       "tract_str_last6        0\n",
       "2014_med             370\n",
       "2015_med             363\n",
       "2016_med             359\n",
       "2017_med             360\n",
       "2018_med             346\n",
       "2019_med             356\n",
       "2020_med             352\n",
       "2021_med             351\n",
       "2014_rec             430\n",
       "2015_rec             416\n",
       "2016_rec             410\n",
       "2017_rec             396\n",
       "2018_rec             382\n",
       "2019_rec             372\n",
       "2020_rec             367\n",
       "2021_rec             354\n",
       "total                  0\n",
       "Unnamed: 0_y           0\n",
       "unemployment_y         0\n",
       "poverty_y              0\n",
       "dispensary_status      0\n",
       "scores                 0\n",
       "match_id               0\n",
       "record_id              0\n",
       "dtype: int64"
      ]
     },
     "execution_count": 7,
     "metadata": {},
     "output_type": "execute_result"
    }
   ],
   "source": [
    "dispensaries.isna().sum()"
   ]
  },
  {
   "cell_type": "code",
   "execution_count": 8,
   "id": "ed4c6e46",
   "metadata": {},
   "outputs": [],
   "source": [
    "dispensaries.fillna(0, inplace=True)"
   ]
  },
  {
   "cell_type": "markdown",
   "id": "cd7d0189",
   "metadata": {},
   "source": [
    "#### Reformat the dispensary data "
   ]
  },
  {
   "cell_type": "code",
   "execution_count": 9,
   "id": "8e3506b4",
   "metadata": {},
   "outputs": [],
   "source": [
    "dispensaries_updated = pd.DataFrame(columns=['tract', 'year', 'rec', 'med', 'dispensary_status', 'match_id'])\n",
    "\n",
    "for index, row in dispensaries.iterrows():\n",
    "    for i in range(8):\n",
    "        year = 2014+i\n",
    "        rec = str(year) + '_rec'\n",
    "        med = str(year) + '_med'\n",
    "        dispensaries_updated.loc[len(dispensaries_updated)] = [str(int(row['tract_str'])), str(year), row[rec], row[med], row['dispensary_status'], row['match_id']]\n"
   ]
  },
  {
   "cell_type": "code",
   "execution_count": 10,
   "id": "f4c6fb6b",
   "metadata": {},
   "outputs": [
    {
     "data": {
      "text/plain": [
       "5808"
      ]
     },
     "execution_count": 10,
     "metadata": {},
     "output_type": "execute_result"
    }
   ],
   "source": [
    "len(dispensaries_updated)"
   ]
  },
  {
   "cell_type": "code",
   "execution_count": 11,
   "id": "8ab1e766",
   "metadata": {},
   "outputs": [],
   "source": [
    "# export the data for future use\n",
    "dispensaries_updated.to_csv('tract_status.csv')"
   ]
  },
  {
   "cell_type": "markdown",
   "id": "727356f1",
   "metadata": {},
   "source": [
    "#### Concat all years' census data together"
   ]
  },
  {
   "cell_type": "code",
   "execution_count": 12,
   "id": "3b0150a0",
   "metadata": {},
   "outputs": [],
   "source": [
    "df_all_year = pd.concat(year_info_df)\n",
    "df_all_year['tract'] = df_all_year['tract'].astype(str)"
   ]
  },
  {
   "cell_type": "markdown",
   "id": "58f645fe",
   "metadata": {},
   "source": [
    "#### All tracts' census info, along with the cum store months every year"
   ]
  },
  {
   "cell_type": "code",
   "execution_count": 13,
   "id": "3b49b770",
   "metadata": {},
   "outputs": [
    {
     "data": {
      "text/plain": [
       "5808"
      ]
     },
     "execution_count": 13,
     "metadata": {},
     "output_type": "execute_result"
    }
   ],
   "source": [
    "df_final = pd.merge(dispensaries_updated, df_all_year,  how='left', on=['tract', 'year'])\n",
    "len(df_final)"
   ]
  },
  {
   "cell_type": "code",
   "execution_count": 14,
   "id": "61d6ca5c",
   "metadata": {},
   "outputs": [
    {
     "data": {
      "text/html": [
       "<div>\n",
       "<style scoped>\n",
       "    .dataframe tbody tr th:only-of-type {\n",
       "        vertical-align: middle;\n",
       "    }\n",
       "\n",
       "    .dataframe tbody tr th {\n",
       "        vertical-align: top;\n",
       "    }\n",
       "\n",
       "    .dataframe thead th {\n",
       "        text-align: right;\n",
       "    }\n",
       "</style>\n",
       "<table border=\"1\" class=\"dataframe\">\n",
       "  <thead>\n",
       "    <tr style=\"text-align: right;\">\n",
       "      <th></th>\n",
       "      <th>tract</th>\n",
       "      <th>year</th>\n",
       "      <th>rec</th>\n",
       "      <th>med</th>\n",
       "      <th>dispensary_status</th>\n",
       "      <th>match_id</th>\n",
       "      <th>population</th>\n",
       "      <th>income</th>\n",
       "      <th>house_value</th>\n",
       "      <th>rent</th>\n",
       "      <th>unemployment</th>\n",
       "      <th>poverty</th>\n",
       "    </tr>\n",
       "  </thead>\n",
       "  <tbody>\n",
       "    <tr>\n",
       "      <th>0</th>\n",
       "      <td>8001007801</td>\n",
       "      <td>2014</td>\n",
       "      <td>0.0</td>\n",
       "      <td>0.0</td>\n",
       "      <td>0.0</td>\n",
       "      <td>180.0</td>\n",
       "      <td>4149.0</td>\n",
       "      <td>12675.0</td>\n",
       "      <td>156800.0</td>\n",
       "      <td>647.0</td>\n",
       "      <td>0.12</td>\n",
       "      <td>0.58</td>\n",
       "    </tr>\n",
       "    <tr>\n",
       "      <th>1</th>\n",
       "      <td>8001007801</td>\n",
       "      <td>2015</td>\n",
       "      <td>12.0</td>\n",
       "      <td>0.0</td>\n",
       "      <td>0.0</td>\n",
       "      <td>180.0</td>\n",
       "      <td>3930.0</td>\n",
       "      <td>12526.0</td>\n",
       "      <td>165800.0</td>\n",
       "      <td>665.0</td>\n",
       "      <td>0.07</td>\n",
       "      <td>0.56</td>\n",
       "    </tr>\n",
       "    <tr>\n",
       "      <th>2</th>\n",
       "      <td>8001007801</td>\n",
       "      <td>2016</td>\n",
       "      <td>24.0</td>\n",
       "      <td>0.0</td>\n",
       "      <td>0.0</td>\n",
       "      <td>180.0</td>\n",
       "      <td>4374.0</td>\n",
       "      <td>15885.0</td>\n",
       "      <td>162100.0</td>\n",
       "      <td>742.0</td>\n",
       "      <td>0.08</td>\n",
       "      <td>0.47</td>\n",
       "    </tr>\n",
       "    <tr>\n",
       "      <th>3</th>\n",
       "      <td>8001007801</td>\n",
       "      <td>2017</td>\n",
       "      <td>36.0</td>\n",
       "      <td>0.0</td>\n",
       "      <td>0.0</td>\n",
       "      <td>180.0</td>\n",
       "      <td>4412.0</td>\n",
       "      <td>17653.0</td>\n",
       "      <td>174300.0</td>\n",
       "      <td>818.0</td>\n",
       "      <td>0.10</td>\n",
       "      <td>0.44</td>\n",
       "    </tr>\n",
       "    <tr>\n",
       "      <th>4</th>\n",
       "      <td>8001007801</td>\n",
       "      <td>2018</td>\n",
       "      <td>48.0</td>\n",
       "      <td>0.0</td>\n",
       "      <td>0.0</td>\n",
       "      <td>180.0</td>\n",
       "      <td>4137.0</td>\n",
       "      <td>21320.0</td>\n",
       "      <td>208200.0</td>\n",
       "      <td>920.0</td>\n",
       "      <td>0.06</td>\n",
       "      <td>0.31</td>\n",
       "    </tr>\n",
       "  </tbody>\n",
       "</table>\n",
       "</div>"
      ],
      "text/plain": [
       "        tract  year   rec  med  dispensary_status  match_id  population  \\\n",
       "0  8001007801  2014   0.0  0.0                0.0     180.0      4149.0   \n",
       "1  8001007801  2015  12.0  0.0                0.0     180.0      3930.0   \n",
       "2  8001007801  2016  24.0  0.0                0.0     180.0      4374.0   \n",
       "3  8001007801  2017  36.0  0.0                0.0     180.0      4412.0   \n",
       "4  8001007801  2018  48.0  0.0                0.0     180.0      4137.0   \n",
       "\n",
       "    income  house_value   rent  unemployment  poverty  \n",
       "0  12675.0     156800.0  647.0          0.12     0.58  \n",
       "1  12526.0     165800.0  665.0          0.07     0.56  \n",
       "2  15885.0     162100.0  742.0          0.08     0.47  \n",
       "3  17653.0     174300.0  818.0          0.10     0.44  \n",
       "4  21320.0     208200.0  920.0          0.06     0.31  "
      ]
     },
     "execution_count": 14,
     "metadata": {},
     "output_type": "execute_result"
    }
   ],
   "source": [
    "df_final.head(5)"
   ]
  },
  {
   "cell_type": "code",
   "execution_count": 15,
   "id": "8f2eb190",
   "metadata": {},
   "outputs": [
    {
     "data": {
      "text/plain": [
       "tract                   0\n",
       "year                    0\n",
       "rec                     0\n",
       "med                     0\n",
       "dispensary_status       0\n",
       "match_id                0\n",
       "population           1110\n",
       "income               1321\n",
       "house_value          1116\n",
       "rent                 1112\n",
       "unemployment         1110\n",
       "poverty              1110\n",
       "dtype: int64"
      ]
     },
     "execution_count": 15,
     "metadata": {},
     "output_type": "execute_result"
    }
   ],
   "source": [
    "df_final.isna().sum()"
   ]
  },
  {
   "cell_type": "code",
   "execution_count": 16,
   "id": "1d1efd0c",
   "metadata": {},
   "outputs": [],
   "source": [
    "# fill the missing census data fields with previous values\n",
    "df_final.fillna(method='ffill', inplace=True)"
   ]
  },
  {
   "cell_type": "code",
   "execution_count": 17,
   "id": "6afb7872",
   "metadata": {},
   "outputs": [],
   "source": [
    "# export the data for future use\n",
    "df_final.to_csv('data_for_DID.csv')"
   ]
  },
  {
   "cell_type": "markdown",
   "id": "c24788fb",
   "metadata": {},
   "source": [
    "#### Create a clean version of paired tracts \n",
    "    ['tract', 'dispensary_status', 'matched_tract']"
   ]
  },
  {
   "cell_type": "code",
   "execution_count": 18,
   "id": "a0f51aad",
   "metadata": {},
   "outputs": [],
   "source": [
    "\"\"\"\n",
    "    Given a tract_id, return a list of all matched results\n",
    "\"\"\"\n",
    "\n",
    "def get_matched(tract_id, df):\n",
    "    m_df = df[df['tract_str']==tract_id]\n",
    "    match_ids = list(m_df.match_id)\n",
    "    res = []\n",
    "    for m_id in match_ids:\n",
    "        valid_df = df[(df['match_id']==m_id) & (df['tract_str']!=tract_id)]\n",
    "        res.append(valid_df.tract_str.values[0])\n",
    "        \n",
    "    return res\n",
    "\n",
    "\"\"\"\n",
    "    Find the next matched result\n",
    "\"\"\"\n",
    "\n",
    "def create_match_column(tract_id, match_count_dict, get_matched_tracts_dict):\n",
    "    \n",
    "    pos = match_count_dict[tract_id]\n",
    "    res = get_matched_tracts_dict[tract_id][pos]\n",
    "    match_count_dict[tract_id] = pos+1\n",
    "    \n",
    "    return res, match_count_dict\n",
    "\n",
    "\n",
    "\n",
    "\n",
    "\n",
    "# prepare one dictionary for referencing the pair\n",
    "# one dictionary for tracking the next matched record \n",
    "matched_pairs_df = dispensaries[['tract_str', 'dispensary_status', 'match_id']]\n",
    "matched_pairs_df['tract_str'] = matched_pairs_df['tract_str'].astype(str)\n",
    "\n",
    "get_matched_tracts_dict = {}\n",
    "match_count_dict = {}\n",
    "all_tracts = list(set(matched_pairs_df.tract_str))\n",
    "\n",
    "for each_t in all_tracts:\n",
    "    get_matched_tracts_dict[each_t] = get_matched(each_t, matched_pairs_df)\n",
    "    match_count_dict[each_t] = 0\n",
    "    \n",
    "\n",
    "    \n",
    "# create a cleaned version of each pair of matched tracts\n",
    "matched_df_cleaned = pd.DataFrame(columns=['tract', 'dispensary_status', 'matched_tract'])\n",
    "\n",
    "for index, row in matched_pairs_df.iterrows():\n",
    "    curr_tract = row['tract_str']\n",
    "    matched, match_count_dict = create_match_column(curr_tract, match_count_dict, get_matched_tracts_dict)\n",
    "    matched_df_cleaned.loc[len(matched_df_cleaned)] = [str(curr_tract), row['dispensary_status'], matched]\n",
    " "
   ]
  },
  {
   "cell_type": "code",
   "execution_count": 19,
   "id": "4252a70a",
   "metadata": {},
   "outputs": [
    {
     "data": {
      "text/html": [
       "<div>\n",
       "<style scoped>\n",
       "    .dataframe tbody tr th:only-of-type {\n",
       "        vertical-align: middle;\n",
       "    }\n",
       "\n",
       "    .dataframe tbody tr th {\n",
       "        vertical-align: top;\n",
       "    }\n",
       "\n",
       "    .dataframe thead th {\n",
       "        text-align: right;\n",
       "    }\n",
       "</style>\n",
       "<table border=\"1\" class=\"dataframe\">\n",
       "  <thead>\n",
       "    <tr style=\"text-align: right;\">\n",
       "      <th></th>\n",
       "      <th>tract</th>\n",
       "      <th>dispensary_status</th>\n",
       "      <th>matched_tract</th>\n",
       "    </tr>\n",
       "  </thead>\n",
       "  <tbody>\n",
       "    <tr>\n",
       "      <th>0</th>\n",
       "      <td>8001007801</td>\n",
       "      <td>0</td>\n",
       "      <td>8041003801</td>\n",
       "    </tr>\n",
       "    <tr>\n",
       "      <th>1</th>\n",
       "      <td>8001007802</td>\n",
       "      <td>0</td>\n",
       "      <td>8041003002</td>\n",
       "    </tr>\n",
       "    <tr>\n",
       "      <th>2</th>\n",
       "      <td>8001007900</td>\n",
       "      <td>0</td>\n",
       "      <td>8041001800</td>\n",
       "    </tr>\n",
       "    <tr>\n",
       "      <th>3</th>\n",
       "      <td>8001007900</td>\n",
       "      <td>0</td>\n",
       "      <td>8083969301</td>\n",
       "    </tr>\n",
       "    <tr>\n",
       "      <th>4</th>\n",
       "      <td>8001008100</td>\n",
       "      <td>0</td>\n",
       "      <td>8031004506</td>\n",
       "    </tr>\n",
       "  </tbody>\n",
       "</table>\n",
       "</div>"
      ],
      "text/plain": [
       "        tract dispensary_status matched_tract\n",
       "0  8001007801                 0    8041003801\n",
       "1  8001007802                 0    8041003002\n",
       "2  8001007900                 0    8041001800\n",
       "3  8001007900                 0    8083969301\n",
       "4  8001008100                 0    8031004506"
      ]
     },
     "execution_count": 19,
     "metadata": {},
     "output_type": "execute_result"
    }
   ],
   "source": [
    "matched_df_cleaned.head()"
   ]
  },
  {
   "cell_type": "code",
   "execution_count": 20,
   "id": "a7541aac",
   "metadata": {},
   "outputs": [],
   "source": [
    "# export the data for future use\n",
    "matched_df_cleaned.to_csv('matched_tracts_cleaned.csv')"
   ]
  }
 ],
 "metadata": {
  "kernelspec": {
   "display_name": "Python 3 (ipykernel)",
   "language": "python",
   "name": "python3"
  },
  "language_info": {
   "codemirror_mode": {
    "name": "ipython",
    "version": 3
   },
   "file_extension": ".py",
   "mimetype": "text/x-python",
   "name": "python",
   "nbconvert_exporter": "python",
   "pygments_lexer": "ipython3",
   "version": "3.9.7"
  }
 },
 "nbformat": 4,
 "nbformat_minor": 5
}
